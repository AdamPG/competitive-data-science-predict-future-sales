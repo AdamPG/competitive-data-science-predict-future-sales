{
 "cells": [
  {
   "cell_type": "markdown",
   "id": "30672f96",
   "metadata": {},
   "source": [
    "# Set up packages and dataframes"
   ]
  },
  {
   "cell_type": "code",
   "execution_count": 1,
   "id": "d49489d4",
   "metadata": {},
   "outputs": [],
   "source": [
    "from pyspark.sql import SparkSession\n",
    "import pyspark.sql.functions as F\n",
    "import os"
   ]
  },
  {
   "cell_type": "code",
   "execution_count": 2,
   "id": "b45cc42d",
   "metadata": {},
   "outputs": [],
   "source": [
    "spark = SparkSession.builder.getOrCreate()"
   ]
  },
  {
   "cell_type": "code",
   "execution_count": 3,
   "id": "bf5f3668",
   "metadata": {},
   "outputs": [],
   "source": [
    "DATA_FOLDER = 'data/'\n",
    "\n",
    "transactions = spark.read.options(    \n",
    "        header=True,  \n",
    "        inferSchema=True\n",
    "    ).csv(\n",
    "        os.path.join(DATA_FOLDER, 'sales_train.csv'), \n",
    "    )\n",
    "\n",
    "items = spark.read.options(    \n",
    "        header=True,  \n",
    "        inferSchema=True\n",
    "    ).csv(\n",
    "        os.path.join(DATA_FOLDER, 'items.csv'), \n",
    "    )\n",
    "\n",
    "item_categories = spark.read.options(    \n",
    "        header=True,  \n",
    "        inferSchema=True\n",
    "    ).csv(\n",
    "        os.path.join(DATA_FOLDER, 'item_categories.csv'), \n",
    "    )\n",
    "\n",
    "shops = spark.read.options(    \n",
    "        header=True,  \n",
    "        inferSchema=True\n",
    "    ).csv(\n",
    "        os.path.join(DATA_FOLDER, 'shops.csv'), \n",
    "    )\n",
    "\n",
    "test = spark.read.options(    \n",
    "        header=True,  \n",
    "        inferSchema=True\n",
    "    ).csv(\n",
    "        os.path.join(DATA_FOLDER, 'test.csv'), \n",
    "    )"
   ]
  },
  {
   "cell_type": "markdown",
   "id": "42b9b409",
   "metadata": {},
   "source": [
    "# Reproduce previous_value_benchmark"
   ]
  },
  {
   "cell_type": "markdown",
   "id": "3d38b4db",
   "metadata": {},
   "source": [
    "Make a copy of the transactions dataframe with reformatted 'date' column."
   ]
  },
  {
   "cell_type": "code",
   "execution_count": 4,
   "id": "c8c69b80",
   "metadata": {},
   "outputs": [],
   "source": [
    "trans = transactions.withColumn('date', F.to_date(transactions.date, format='dd.MM.yyyy'))"
   ]
  },
  {
   "cell_type": "markdown",
   "id": "9a46e841",
   "metadata": {},
   "source": [
    "Extract the day, month and year from the date."
   ]
  },
  {
   "cell_type": "code",
   "execution_count": 5,
   "id": "09df1bf8",
   "metadata": {},
   "outputs": [],
   "source": [
    "trans = trans.withColumn('day', F.dayofyear(trans.date))\n",
    "trans = trans.withColumn('month', F.month(trans.date))\n",
    "trans = trans.withColumn('year', F.year(trans.date))"
   ]
  },
  {
   "cell_type": "markdown",
   "id": "2edd0afb",
   "metadata": {},
   "source": [
    "Aggregate total sales for the previous month (October 2015)."
   ]
  },
  {
   "cell_type": "code",
   "execution_count": 6,
   "id": "11b4151b",
   "metadata": {},
   "outputs": [],
   "source": [
    "oct_2015 = trans[(trans.year == 2015) & (trans.month == 10)]\n",
    "\n",
    "oct_2015.createOrReplaceTempView('oct_2015')\n",
    "\n",
    "right = spark.sql(('SELECT shop_id, item_id, SUM(item_cnt_day) AS item_cnt_month '\n",
    "                   ' FROM oct_2015 '\n",
    "                   ' GROUP BY shop_id, item_id'))"
   ]
  },
  {
   "cell_type": "markdown",
   "id": "c92522e4",
   "metadata": {},
   "source": [
    "Create previous_value_benchmark by left joining total October 2015 sales on the test dataframe."
   ]
  },
  {
   "cell_type": "code",
   "execution_count": 8,
   "id": "d60126e7",
   "metadata": {},
   "outputs": [],
   "source": [
    "right.createOrReplaceTempView('right')\n",
    "test.createOrReplaceTempView('test')\n",
    "\n",
    "previous_value_benchmark = spark.sql(('SELECT test.ID, right.item_cnt_month '\n",
    "                                      ' FROM test '\n",
    "                                      ' LEFT JOIN right '\n",
    "                                      '  ON test.shop_id = right.shop_id '\n",
    "                                      '  AND test.item_id = right.item_id '))"
   ]
  },
  {
   "cell_type": "markdown",
   "id": "ad4c70e7",
   "metadata": {},
   "source": [
    "Fill null values with 0 and clip the values into the [0,20] range."
   ]
  },
  {
   "cell_type": "code",
   "execution_count": null,
   "id": "5aea6bfe",
   "metadata": {},
   "outputs": [],
   "source": [
    "previous_value_benchmark = previous_value_benchmark.fillna(0)\n",
    "\n",
    "previous_value_benchmark.createOrReplaceTempView('previous_value_benchmark')\n",
    "\n",
    "previous_value_benchmark = spark.sql(('SELECT ID, '\n",
    "                                      '  CASE '\n",
    "                                      '    WHEN item_cnt_month < 20 THEN item_cnt_month '\n",
    "                                      '    ELSE 20 '\n",
    "                                      '  END AS item_cnt_month '\n",
    "                                      ' FROM previous_value_benchmark '))"
   ]
  },
  {
   "cell_type": "markdown",
   "id": "a4b7124b",
   "metadata": {},
   "source": [
    "Write the result to `csv`."
   ]
  },
  {
   "cell_type": "code",
   "execution_count": 9,
   "id": "7a5a5a73",
   "metadata": {},
   "outputs": [],
   "source": [
    "previous_value_benchmark.toPandas().to_csv('data/previous_value_benchmark.csv', index=False)"
   ]
  }
 ],
 "metadata": {
  "kernelspec": {
   "display_name": "Python 3",
   "language": "python",
   "name": "python3"
  },
  "language_info": {
   "codemirror_mode": {
    "name": "ipython",
    "version": 3
   },
   "file_extension": ".py",
   "mimetype": "text/x-python",
   "name": "python",
   "nbconvert_exporter": "python",
   "pygments_lexer": "ipython3",
   "version": "3.9.5"
  },
  "toc": {
   "base_numbering": 1,
   "nav_menu": {},
   "number_sections": true,
   "sideBar": true,
   "skip_h1_title": false,
   "title_cell": "Table of Contents",
   "title_sidebar": "Contents",
   "toc_cell": false,
   "toc_position": {},
   "toc_section_display": true,
   "toc_window_display": false
  },
  "varInspector": {
   "cols": {
    "lenName": 16,
    "lenType": 16,
    "lenVar": 40
   },
   "kernels_config": {
    "python": {
     "delete_cmd_postfix": "",
     "delete_cmd_prefix": "del ",
     "library": "var_list.py",
     "varRefreshCmd": "print(var_dic_list())"
    },
    "r": {
     "delete_cmd_postfix": ") ",
     "delete_cmd_prefix": "rm(",
     "library": "var_list.r",
     "varRefreshCmd": "cat(var_dic_list()) "
    }
   },
   "types_to_exclude": [
    "module",
    "function",
    "builtin_function_or_method",
    "instance",
    "_Feature"
   ],
   "window_display": false
  }
 },
 "nbformat": 4,
 "nbformat_minor": 5
}
