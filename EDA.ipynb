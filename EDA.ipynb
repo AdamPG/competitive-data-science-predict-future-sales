{
 "cells": [
  {
   "cell_type": "markdown",
   "id": "1d19805a",
   "metadata": {},
   "source": [
    "# Set up packages and dataframes"
   ]
  },
  {
   "cell_type": "code",
   "execution_count": 1,
   "id": "d37f948c",
   "metadata": {},
   "outputs": [],
   "source": [
    "from pyspark.sql import SparkSession\n",
    "import pyspark.sql.functions as F\n",
    "from pyspark.sql.types import StringType, ArrayType\n",
    "from pyspark.ml.feature import CountVectorizer\n",
    "\n",
    "import os\n",
    "import numpy as np\n",
    "from nltk.stem.snowball import SnowballStemmer\n",
    "import re\n",
    "import regex\n",
    "\n",
    "spark = SparkSession.builder.getOrCreate()"
   ]
  },
  {
   "cell_type": "code",
   "execution_count": 2,
   "id": "65ba08c8",
   "metadata": {},
   "outputs": [],
   "source": [
    "DATA_FOLDER = 'data/'\n",
    "\n",
    "transactions = spark.read.options(    \n",
    "        header=True,  \n",
    "        inferSchema=True\n",
    "    ).csv(\n",
    "        os.path.join(DATA_FOLDER, 'sales_train.csv'), \n",
    "    )\n",
    "\n",
    "items = spark.read.options(    \n",
    "        header=True,  \n",
    "        inferSchema=True\n",
    "    ).csv(\n",
    "        os.path.join(DATA_FOLDER, 'items.csv'), \n",
    "    )\n",
    "\n",
    "item_categories = spark.read.options(    \n",
    "        header=True,  \n",
    "        inferSchema=True\n",
    "    ).csv(\n",
    "        os.path.join(DATA_FOLDER, 'item_categories.csv'), \n",
    "    )\n",
    "\n",
    "shops = spark.read.options(    \n",
    "        header=True,  \n",
    "        inferSchema=True\n",
    "    ).csv(\n",
    "        os.path.join(DATA_FOLDER, 'shops.csv'), \n",
    "    )\n",
    "\n",
    "test = spark.read.options(    \n",
    "        header=True,  \n",
    "        inferSchema=True\n",
    "    ).csv(\n",
    "        os.path.join(DATA_FOLDER, 'test.csv'), \n",
    "    )"
   ]
  },
  {
   "cell_type": "markdown",
   "id": "fa264c1e",
   "metadata": {},
   "source": [
    "# EDA"
   ]
  },
  {
   "cell_type": "markdown",
   "id": "95bf45bb",
   "metadata": {},
   "source": [
    "## Look at dataframes"
   ]
  },
  {
   "cell_type": "markdown",
   "id": "85cc5a71",
   "metadata": {},
   "source": [
    "Print the top 10 rows and the total number of rows."
   ]
  },
  {
   "cell_type": "code",
   "execution_count": 11,
   "id": "05b1e9fc",
   "metadata": {},
   "outputs": [
    {
     "name": "stdout",
     "output_type": "stream",
     "text": [
      "Total number of rows: 2935849\n",
      "+----------+--------------+-------+-------+----------+------------+\n",
      "|      date|date_block_num|shop_id|item_id|item_price|item_cnt_day|\n",
      "+----------+--------------+-------+-------+----------+------------+\n",
      "|02.01.2013|             0|     59|  22154|     999.0|         1.0|\n",
      "|03.01.2013|             0|     25|   2552|     899.0|         1.0|\n",
      "|05.01.2013|             0|     25|   2552|     899.0|        -1.0|\n",
      "|06.01.2013|             0|     25|   2554|   1709.05|         1.0|\n",
      "|15.01.2013|             0|     25|   2555|    1099.0|         1.0|\n",
      "|10.01.2013|             0|     25|   2564|     349.0|         1.0|\n",
      "|02.01.2013|             0|     25|   2565|     549.0|         1.0|\n",
      "|04.01.2013|             0|     25|   2572|     239.0|         1.0|\n",
      "|11.01.2013|             0|     25|   2572|     299.0|         1.0|\n",
      "|03.01.2013|             0|     25|   2573|     299.0|         3.0|\n",
      "+----------+--------------+-------+-------+----------+------------+\n",
      "only showing top 10 rows\n",
      "\n",
      "Total number of rows: 22170\n",
      "+--------------------+-------+----------------+--------------------+--------------------+\n",
      "|           item_name|item_id|item_category_id|   stemmed_item_name|       bow_item_name|\n",
      "+--------------------+-------+----------------+--------------------+--------------------+\n",
      "|! ВО ВЛАСТИ НАВАЖ...|      0|              40|[во, власт, наваж...|(13086,[22,1050,3...|\n",
      "|!ABBYY FineReader...|      1|              76|[abbyy, fineread,...|(13086,[0,1,4,19,...|\n",
      "|***В ЛУЧАХ СЛАВЫ ...|      2|              40|[в, луч, слав, un...|(13086,[13,22,244...|\n",
      "|***ГОЛУБАЯ ВОЛНА ...|      3|              40|[голуб, волн, uni...|(13086,[22,668,10...|\n",
      "|***КОРОБКА (СТЕКЛ...|      4|              40|  [коробк, стекл, d]|(13086,[22,629,15...|\n",
      "|***НОВЫЕ АМЕРИКАН...|      5|              40|[нов, американск,...|(13086,[22,62,698...|\n",
      "|***УДАР ПО ВОРОТА...|      6|              40|[удар, по, ворот,...|(13086,[22,56,116...|\n",
      "|***УДАР ПО ВОРОТА...|      7|              40|[удар, по, ворот,...|(13086,[22,56,116...|\n",
      "|***ЧАЙ С МУССОЛИН...|      8|              40|[ча, с, муссолин, d]|(13086,[7,22,4432...|\n",
      "|***ШУГАРЛЭНДСКИЙ ...|      9|              40|[шугарлэндск, экс...|(13086,[22,1162,3...|\n",
      "+--------------------+-------+----------------+--------------------+--------------------+\n",
      "only showing top 10 rows\n",
      "\n",
      "Total number of rows: 84\n",
      "+--------------------+----------------+--------------------------+----------------------+\n",
      "|  item_category_name|item_category_id|stemmed_item_category_name|bow_item_category_name|\n",
      "+--------------------+----------------+--------------------------+----------------------+\n",
      "|PC - Гарнитуры/На...|               0|      [pc, гарнитур, на...|  (96,[12,57,84],[1...|\n",
      "|    Аксессуары - PS2|               1|           [аксессуар, ps]|  (96,[4,6],[1.0,1.0])|\n",
      "|    Аксессуары - PS3|               2|           [аксессуар, ps]|  (96,[4,6],[1.0,1.0])|\n",
      "|    Аксессуары - PS4|               3|           [аксессуар, ps]|  (96,[4,6],[1.0,1.0])|\n",
      "|    Аксессуары - PSP|               4|          [аксессуар, psp]|  (96,[6,20],[1.0,1...|\n",
      "| Аксессуары - PSVita|               5|       [аксессуар, psvita]|  (96,[6,17],[1.0,1...|\n",
      "|Аксессуары - XBOX...|               6|         [аксессуар, xbox]|  (96,[6,9],[1.0,1.0])|\n",
      "|Аксессуары - XBOX...|               7|      [аксессуар, xbox,...|  (96,[6,9,19],[1.0...|\n",
      "|      Билеты (Цифра)|               8|             [билет, цифр]|  (96,[3,27],[1.0,1...|\n",
      "|     Доставка товара|               9|          [доставк, товар]|  (96,[66,83],[1.0,...|\n",
      "+--------------------+----------------+--------------------------+----------------------+\n",
      "only showing top 10 rows\n",
      "\n",
      "Total number of rows: 60\n",
      "+--------------------+-------+--------------------+--------------------+\n",
      "|           shop_name|shop_id|   stemmed_shop_name|       bow_shop_name|\n",
      "+--------------------+-------+--------------------+--------------------+\n",
      "|!Якутск Орджоники...|      0|[якутск, орджоник...|(110,[6,20,34],[1...|\n",
      "|\"!Якутск ТЦ \"\"Цен...|      1|[якутск, тц, цент...|(110,[0,6,9,20],[...|\n",
      "|\"Адыгея ТЦ \"\"Мега\"\"\"|      2|    [адыге, тц, мег]|(110,[0,3,103],[1...|\n",
      "|\"Балашиха ТРК \"\"О...|      3|[балаших, трк, ок...|(110,[4,52,66,99]...|\n",
      "|\"Волжский ТЦ \"\"Во...|      4|[волжск, тц, волг...|(110,[0,11,38,101...|\n",
      "|\"Вологда ТРЦ \"\"Ма...|      5|[вологд, трц, мар...|(110,[2,61,77],[1...|\n",
      "|Воронеж (Плеханов...|      6|[воронеж, плехано...|(110,[12,105],[1....|\n",
      "|\"Воронеж ТРЦ \"\"Ма...|      7|[воронеж, трц, ма...|(110,[2,12,106],[...|\n",
      "|\"Воронеж ТРЦ Сити...|      8|[воронеж, трц, си...|(110,[2,12,25,42,...|\n",
      "|   Выездная Торговля|      9|   [выездн, торговл]|(110,[80,97],[1.0...|\n",
      "+--------------------+-------+--------------------+--------------------+\n",
      "only showing top 10 rows\n",
      "\n",
      "Total number of rows: 214200\n",
      "+---+-------+-------+\n",
      "| ID|shop_id|item_id|\n",
      "+---+-------+-------+\n",
      "|  0|      5|   5037|\n",
      "|  1|      5|   5320|\n",
      "|  2|      5|   5233|\n",
      "|  3|      5|   5232|\n",
      "|  4|      5|   5268|\n",
      "|  5|      5|   5039|\n",
      "|  6|      5|   5041|\n",
      "|  7|      5|   5046|\n",
      "|  8|      5|   5319|\n",
      "|  9|      5|   5003|\n",
      "+---+-------+-------+\n",
      "only showing top 10 rows\n",
      "\n"
     ]
    }
   ],
   "source": [
    "print('Total number of rows: {}'.format(transactions.count()))\n",
    "transactions.show(10)\n",
    "\n",
    "print('Total number of rows: {}'.format(items.count()))\n",
    "items.show(10)\n",
    "\n",
    "print('Total number of rows: {}'.format(item_categories.count()))\n",
    "item_categories.show(10)\n",
    "\n",
    "print('Total number of rows: {}'.format(shops.count()))\n",
    "shops.show(10)\n",
    "\n",
    "print('Total number of rows: {}'.format(test.count()))\n",
    "test.show(10)"
   ]
  },
  {
   "cell_type": "markdown",
   "id": "fd54e709",
   "metadata": {},
   "source": [
    "We see that in the training dataset, there are 2935849 transactions, 22170 items, 84 item categories and 60 shops."
   ]
  },
  {
   "cell_type": "markdown",
   "id": "62d2a9d9",
   "metadata": {},
   "source": [
    "# Feature Extraction"
   ]
  },
  {
   "cell_type": "markdown",
   "id": "722865db",
   "metadata": {},
   "source": [
    "## Join all data onto the transactions dataframe "
   ]
  },
  {
   "cell_type": "markdown",
   "id": "7bcd270e",
   "metadata": {},
   "source": [
    "Upon inspection, one sees that all features appearing in the training dataframes above can be joined onto the transactions dataframe using the appropriate ID."
   ]
  },
  {
   "cell_type": "code",
   "execution_count": null,
   "id": "317e4bf0",
   "metadata": {},
   "outputs": [],
   "source": [
    "transactions.createOrReplaceTempView('transactions')\n",
    "items.createOrReplaceTempView('items')\n",
    "\n",
    "transactions = spark.sql(('SELECT transactions.*, items.item_name, items.item_category_id '\n",
    "                  ' FROM transactions '\n",
    "                  ' LEFT JOIN items '\n",
    "                  '  ON transactions.item_id = items.item_id '))"
   ]
  },
  {
   "cell_type": "code",
   "execution_count": null,
   "id": "f0c10627",
   "metadata": {},
   "outputs": [],
   "source": [
    "transactions.createOrReplaceTempView('transactions')\n",
    "item_categories.createOrReplaceTempView('item_categories')\n",
    "\n",
    "transactions = spark.sql(('SELECT transactions.*, item_categories.item_category_name '\n",
    "                  ' FROM transactions '\n",
    "                  ' LEFT JOIN item_categories '\n",
    "                  '  ON transactions.item_category_id = item_categories.item_category_id '))"
   ]
  },
  {
   "cell_type": "code",
   "execution_count": null,
   "id": "7e4ad880",
   "metadata": {},
   "outputs": [],
   "source": [
    "transactions.createOrReplaceTempView('transactions')\n",
    "shops.createOrReplaceTempView('shops')\n",
    "\n",
    "transactions = spark.sql(('SELECT transactions.*, shops.shop_name '\n",
    "                  ' FROM transactions '\n",
    "                  ' LEFT JOIN shops '\n",
    "                  '  ON transactions.shop_id = shops.shop_id '))"
   ]
  },
  {
   "cell_type": "markdown",
   "id": "059eeb29",
   "metadata": {},
   "source": [
    "## Extract the day, month and year from the date."
   ]
  },
  {
   "cell_type": "code",
   "execution_count": null,
   "id": "fb043fc0",
   "metadata": {},
   "outputs": [],
   "source": [
    "transactions = transactions.withColumn('date', F.to_date(transactions.date, format='dd.MM.yyyy'))"
   ]
  },
  {
   "cell_type": "code",
   "execution_count": null,
   "id": "5c28aab2",
   "metadata": {},
   "outputs": [],
   "source": [
    "transactions = transactions.withColumn('day', F.dayofyear(transactions.date))\n",
    "transactions = transactions.withColumn('month', F.month(transactions.date))\n",
    "transactions = transactions.withColumn('year', F.year(transactions.date))"
   ]
  },
  {
   "cell_type": "markdown",
   "id": "ee9516b5",
   "metadata": {},
   "source": [
    "## Extract text-based features"
   ]
  },
  {
   "cell_type": "markdown",
   "id": "183fe67d",
   "metadata": {},
   "source": [
    "### Stem the text"
   ]
  },
  {
   "cell_type": "markdown",
   "id": "a582bb9e",
   "metadata": {},
   "source": [
    "Define a stemmer that can handle both Russian and English text using nltk's Snowball Stemmer."
   ]
  },
  {
   "cell_type": "code",
   "execution_count": 3,
   "id": "0026b608",
   "metadata": {},
   "outputs": [],
   "source": [
    "en_stemmer = SnowballStemmer('english')\n",
    "ru_stemmer = SnowballStemmer('russian')\n",
    "\n",
    "cyr_regex = regex.compile('\\p{Cyrillic}+', regex.UNICODE)\n",
    "lat_regex = regex.compile('\\p{Latin}+', regex.UNICODE)"
   ]
  },
  {
   "cell_type": "code",
   "execution_count": 4,
   "id": "695e6187",
   "metadata": {},
   "outputs": [],
   "source": [
    "def clean_text(text):\n",
    "    \"\"\" Removes punctuation from string, unwanted unicode characters, and numbers. Returns in lowercase.\n",
    "    \n",
    "    Args:\n",
    "        text (str): The text to clean.\n",
    "    \n",
    "    Returns:\n",
    "        The cleaned text after filtered by the regex expression and made lowercase.\n",
    "    \n",
    "    For more information on the unicode categories used in the regex expression see here:\n",
    "    https://www.regular-expressions.info/unicode.html#category\n",
    "    \n",
    "    >>> clean_text(\"!$%&\\'()*+,-./:;<=>?@[\\\\]^_`{|}~ Can't, - Trademark™ ...「（Punctuation）」42.32 ?\")\n",
    "    cant trademark punctuation\n",
    "    \n",
    "    \"\"\"\n",
    "    # remove URLs\n",
    "    text = re.sub(r\"http\\S+\", \"\", text)\n",
    "    # remove apostrophes \n",
    "    text = text.replace(\"'\", \"\")\n",
    "    \n",
    "    # Define regex unicode Categories and strip from string\n",
    "    remove = regex.compile('[\\p{C}|\\p{M}|\\p{P}|\\p{S}|\\p{Z}|\\p{N}]+', regex.UNICODE)\n",
    "    text = remove.sub(\" \", text).strip()\n",
    "    \n",
    "    # make lowercase\n",
    "    text = text.lower()\n",
    "    \n",
    "    return text\n",
    "\n",
    "def stemmer(text):\n",
    "    \"\"\"Identify the words written in Cyrillic and Latin characters in a string,\n",
    "    and apply a Russian or English stemmer, respectively.\n",
    "    \n",
    "    Args:\n",
    "        text(str): The string whose Cyrillic and Latin text will be stemmed.\n",
    "    \n",
    "    Returns:\n",
    "        A stemmed version of the text.\n",
    "    \"\"\"\n",
    "    if text is None:\n",
    "        return []\n",
    "    \n",
    "    text = clean_text(text)\n",
    "\n",
    "    words = re.split('\\s', text)\n",
    "    stemmed_word_list = []\n",
    "    for word in words:\n",
    "        ru = regex.search(cyr_regex, word)\n",
    "        en = regex.search(lat_regex, word)\n",
    "        if ru:\n",
    "            stemmed_word = ru_stemmer.stem(word)\n",
    "        elif en:\n",
    "            stemmed_word = en_stemmer.stem(word)\n",
    "        else:\n",
    "            stemmed_word = word\n",
    "        stemmed_word_list.append(stemmed_word)\n",
    "    \n",
    "    return stemmed_word_list"
   ]
  },
  {
   "cell_type": "markdown",
   "id": "17e976a8",
   "metadata": {},
   "source": [
    "Demonstrate function on sample text from the dataset."
   ]
  },
  {
   "cell_type": "code",
   "execution_count": 5,
   "id": "c5056fbd",
   "metadata": {
    "scrolled": true
   },
   "outputs": [
    {
     "data": {
      "text/plain": [
       "['кин', 'blu', 'ray']"
      ]
     },
     "execution_count": 5,
     "metadata": {},
     "output_type": "execute_result"
    }
   ],
   "source": [
    "text = '(Кино) - Blu-Ray'\n",
    "\n",
    "stemmer(text)"
   ]
  },
  {
   "cell_type": "markdown",
   "id": "c997625e",
   "metadata": {},
   "source": [
    "Apply stemmer to columns containing text."
   ]
  },
  {
   "cell_type": "code",
   "execution_count": 6,
   "id": "dcb6c193",
   "metadata": {},
   "outputs": [],
   "source": [
    "udf_stemmer = F.udf(stemmer, ArrayType(StringType(), True))"
   ]
  },
  {
   "cell_type": "code",
   "execution_count": 8,
   "id": "a8bdbd9e",
   "metadata": {},
   "outputs": [],
   "source": [
    "items = items.withColumn('stemmed_item_name', udf_stemmer(items.item_name))\n",
    "item_categories = item_categories.withColumn('stemmed_item_category_name', udf_stemmer(item_categories.item_category_name))\n",
    "shops = shops.withColumn('stemmed_shop_name', udf_stemmer(shops.shop_name))"
   ]
  },
  {
   "cell_type": "markdown",
   "id": "0aa32f01",
   "metadata": {},
   "source": [
    "### Vectorize using bag of words"
   ]
  },
  {
   "cell_type": "code",
   "execution_count": 9,
   "id": "3ca20f0d",
   "metadata": {},
   "outputs": [],
   "source": [
    "cv = CountVectorizer()"
   ]
  },
  {
   "cell_type": "code",
   "execution_count": 10,
   "id": "c80d474f",
   "metadata": {},
   "outputs": [],
   "source": [
    "cv.setInputCol('stemmed_item_name')\n",
    "cv.setOutputCol('bow_item_name')\n",
    "model = cv.fit(items)\n",
    "model.setInputCol('stemmed_item_name')\n",
    "items = model.transform(items)\n",
    "               \n",
    "cv.setInputCol('stemmed_item_category_name')\n",
    "cv.setOutputCol('bow_item_category_name')\n",
    "model = cv.fit(item_categories)\n",
    "model.setInputCol('stemmed_item_category_name')\n",
    "item_categories = model.transform(item_categories)\n",
    "\n",
    "cv.setInputCol('stemmed_shop_name')\n",
    "cv.setOutputCol('bow_shop_name')\n",
    "model = cv.fit(shops)\n",
    "model.setInputCol('stemmed_shop_name')\n",
    "shops = model.transform(shops)"
   ]
  },
  {
   "cell_type": "markdown",
   "id": "30a55655",
   "metadata": {},
   "source": [
    "### Join the results onto the transactions dataframe"
   ]
  },
  {
   "cell_type": "code",
   "execution_count": 12,
   "id": "153ea0ad",
   "metadata": {},
   "outputs": [],
   "source": [
    "transactions.createOrReplaceTempView('transactions')\n",
    "items.createOrReplaceTempView('items')\n",
    "\n",
    "transactions = spark.sql(('SELECT transactions.*, items.bow_item_name, items.item_category_id '\n",
    "                  ' FROM transactions '\n",
    "                  ' LEFT JOIN items '\n",
    "                  '  ON transactions.item_id = items.item_id '))"
   ]
  },
  {
   "cell_type": "code",
   "execution_count": 13,
   "id": "9f768ec2",
   "metadata": {},
   "outputs": [],
   "source": [
    "transactions.createOrReplaceTempView('transactions')\n",
    "item_categories.createOrReplaceTempView('item_categories')\n",
    "\n",
    "transactions = spark.sql(('SELECT transactions.*, item_categories.bow_item_category_name '\n",
    "                  ' FROM transactions '\n",
    "                  ' LEFT JOIN item_categories '\n",
    "                  '  ON transactions.item_category_id = item_categories.item_category_id '))"
   ]
  },
  {
   "cell_type": "code",
   "execution_count": 14,
   "id": "2bce202c",
   "metadata": {},
   "outputs": [],
   "source": [
    "transactions.createOrReplaceTempView('transactions')\n",
    "shops.createOrReplaceTempView('shops')\n",
    "\n",
    "transactions = spark.sql(('SELECT transactions.*, shops.bow_shop_name '\n",
    "                  ' FROM transactions '\n",
    "                  ' LEFT JOIN shops '\n",
    "                  '  ON transactions.shop_id = shops.shop_id '))"
   ]
  },
  {
   "cell_type": "markdown",
   "id": "4569e808",
   "metadata": {},
   "source": [
    "## Display the resulting dataframe."
   ]
  },
  {
   "cell_type": "code",
   "execution_count": 15,
   "id": "91d7c9c8",
   "metadata": {},
   "outputs": [
    {
     "data": {
      "text/html": [
       "<div>\n",
       "<style scoped>\n",
       "    .dataframe tbody tr th:only-of-type {\n",
       "        vertical-align: middle;\n",
       "    }\n",
       "\n",
       "    .dataframe tbody tr th {\n",
       "        vertical-align: top;\n",
       "    }\n",
       "\n",
       "    .dataframe thead th {\n",
       "        text-align: right;\n",
       "    }\n",
       "</style>\n",
       "<table border=\"1\" class=\"dataframe\">\n",
       "  <thead>\n",
       "    <tr style=\"text-align: right;\">\n",
       "      <th></th>\n",
       "      <th>date</th>\n",
       "      <th>date_block_num</th>\n",
       "      <th>shop_id</th>\n",
       "      <th>item_id</th>\n",
       "      <th>item_price</th>\n",
       "      <th>item_cnt_day</th>\n",
       "      <th>bow_item_name</th>\n",
       "      <th>item_category_id</th>\n",
       "      <th>bow_item_category_name</th>\n",
       "      <th>bow_shop_name</th>\n",
       "    </tr>\n",
       "  </thead>\n",
       "  <tbody>\n",
       "    <tr>\n",
       "      <th>0</th>\n",
       "      <td>02.01.2013</td>\n",
       "      <td>0</td>\n",
       "      <td>59</td>\n",
       "      <td>22154</td>\n",
       "      <td>999.00</td>\n",
       "      <td>1.0</td>\n",
       "      <td>(0.0, 0.0, 1.0, 0.0, 0.0, 0.0, 0.0, 0.0, 0.0, ...</td>\n",
       "      <td>37</td>\n",
       "      <td>(0.0, 0.0, 0.0, 0.0, 0.0, 0.0, 0.0, 0.0, 0.0, ...</td>\n",
       "      <td>(1.0, 0.0, 0.0, 0.0, 0.0, 0.0, 0.0, 0.0, 0.0, ...</td>\n",
       "    </tr>\n",
       "    <tr>\n",
       "      <th>1</th>\n",
       "      <td>03.01.2013</td>\n",
       "      <td>0</td>\n",
       "      <td>25</td>\n",
       "      <td>2552</td>\n",
       "      <td>899.00</td>\n",
       "      <td>1.0</td>\n",
       "      <td>(0.0, 0.0, 0.0, 0.0, 0.0, 0.0, 0.0, 0.0, 0.0, ...</td>\n",
       "      <td>58</td>\n",
       "      <td>(0.0, 0.0, 0.0, 0.0, 0.0, 0.0, 0.0, 0.0, 1.0, ...</td>\n",
       "      <td>(0.0, 1.0, 0.0, 0.0, 1.0, 0.0, 0.0, 0.0, 0.0, ...</td>\n",
       "    </tr>\n",
       "    <tr>\n",
       "      <th>2</th>\n",
       "      <td>05.01.2013</td>\n",
       "      <td>0</td>\n",
       "      <td>25</td>\n",
       "      <td>2552</td>\n",
       "      <td>899.00</td>\n",
       "      <td>-1.0</td>\n",
       "      <td>(0.0, 0.0, 0.0, 0.0, 0.0, 0.0, 0.0, 0.0, 0.0, ...</td>\n",
       "      <td>58</td>\n",
       "      <td>(0.0, 0.0, 0.0, 0.0, 0.0, 0.0, 0.0, 0.0, 1.0, ...</td>\n",
       "      <td>(0.0, 1.0, 0.0, 0.0, 1.0, 0.0, 0.0, 0.0, 0.0, ...</td>\n",
       "    </tr>\n",
       "    <tr>\n",
       "      <th>3</th>\n",
       "      <td>06.01.2013</td>\n",
       "      <td>0</td>\n",
       "      <td>25</td>\n",
       "      <td>2554</td>\n",
       "      <td>1709.05</td>\n",
       "      <td>1.0</td>\n",
       "      <td>(0.0, 0.0, 0.0, 0.0, 0.0, 0.0, 0.0, 0.0, 0.0, ...</td>\n",
       "      <td>58</td>\n",
       "      <td>(0.0, 0.0, 0.0, 0.0, 0.0, 0.0, 0.0, 0.0, 1.0, ...</td>\n",
       "      <td>(0.0, 1.0, 0.0, 0.0, 1.0, 0.0, 0.0, 0.0, 0.0, ...</td>\n",
       "    </tr>\n",
       "    <tr>\n",
       "      <th>4</th>\n",
       "      <td>15.01.2013</td>\n",
       "      <td>0</td>\n",
       "      <td>25</td>\n",
       "      <td>2555</td>\n",
       "      <td>1099.00</td>\n",
       "      <td>1.0</td>\n",
       "      <td>(0.0, 0.0, 0.0, 0.0, 0.0, 0.0, 1.0, 0.0, 0.0, ...</td>\n",
       "      <td>56</td>\n",
       "      <td>(0.0, 0.0, 0.0, 0.0, 0.0, 0.0, 0.0, 0.0, 1.0, ...</td>\n",
       "      <td>(0.0, 1.0, 0.0, 0.0, 1.0, 0.0, 0.0, 0.0, 0.0, ...</td>\n",
       "    </tr>\n",
       "    <tr>\n",
       "      <th>5</th>\n",
       "      <td>10.01.2013</td>\n",
       "      <td>0</td>\n",
       "      <td>25</td>\n",
       "      <td>2564</td>\n",
       "      <td>349.00</td>\n",
       "      <td>1.0</td>\n",
       "      <td>(0.0, 0.0, 0.0, 0.0, 0.0, 0.0, 0.0, 0.0, 0.0, ...</td>\n",
       "      <td>59</td>\n",
       "      <td>(0.0, 0.0, 0.0, 0.0, 0.0, 0.0, 0.0, 0.0, 1.0, ...</td>\n",
       "      <td>(0.0, 1.0, 0.0, 0.0, 1.0, 0.0, 0.0, 0.0, 0.0, ...</td>\n",
       "    </tr>\n",
       "    <tr>\n",
       "      <th>6</th>\n",
       "      <td>02.01.2013</td>\n",
       "      <td>0</td>\n",
       "      <td>25</td>\n",
       "      <td>2565</td>\n",
       "      <td>549.00</td>\n",
       "      <td>1.0</td>\n",
       "      <td>(0.0, 0.0, 0.0, 0.0, 0.0, 0.0, 0.0, 0.0, 0.0, ...</td>\n",
       "      <td>56</td>\n",
       "      <td>(0.0, 0.0, 0.0, 0.0, 0.0, 0.0, 0.0, 0.0, 1.0, ...</td>\n",
       "      <td>(0.0, 1.0, 0.0, 0.0, 1.0, 0.0, 0.0, 0.0, 0.0, ...</td>\n",
       "    </tr>\n",
       "    <tr>\n",
       "      <th>7</th>\n",
       "      <td>04.01.2013</td>\n",
       "      <td>0</td>\n",
       "      <td>25</td>\n",
       "      <td>2572</td>\n",
       "      <td>239.00</td>\n",
       "      <td>1.0</td>\n",
       "      <td>(0.0, 0.0, 0.0, 0.0, 0.0, 0.0, 0.0, 0.0, 0.0, ...</td>\n",
       "      <td>55</td>\n",
       "      <td>(0.0, 0.0, 0.0, 0.0, 0.0, 0.0, 0.0, 0.0, 1.0, ...</td>\n",
       "      <td>(0.0, 1.0, 0.0, 0.0, 1.0, 0.0, 0.0, 0.0, 0.0, ...</td>\n",
       "    </tr>\n",
       "    <tr>\n",
       "      <th>8</th>\n",
       "      <td>11.01.2013</td>\n",
       "      <td>0</td>\n",
       "      <td>25</td>\n",
       "      <td>2572</td>\n",
       "      <td>299.00</td>\n",
       "      <td>1.0</td>\n",
       "      <td>(0.0, 0.0, 0.0, 0.0, 0.0, 0.0, 0.0, 0.0, 0.0, ...</td>\n",
       "      <td>55</td>\n",
       "      <td>(0.0, 0.0, 0.0, 0.0, 0.0, 0.0, 0.0, 0.0, 1.0, ...</td>\n",
       "      <td>(0.0, 1.0, 0.0, 0.0, 1.0, 0.0, 0.0, 0.0, 0.0, ...</td>\n",
       "    </tr>\n",
       "    <tr>\n",
       "      <th>9</th>\n",
       "      <td>03.01.2013</td>\n",
       "      <td>0</td>\n",
       "      <td>25</td>\n",
       "      <td>2573</td>\n",
       "      <td>299.00</td>\n",
       "      <td>3.0</td>\n",
       "      <td>(0.0, 0.0, 0.0, 0.0, 0.0, 0.0, 0.0, 0.0, 0.0, ...</td>\n",
       "      <td>55</td>\n",
       "      <td>(0.0, 0.0, 0.0, 0.0, 0.0, 0.0, 0.0, 0.0, 1.0, ...</td>\n",
       "      <td>(0.0, 1.0, 0.0, 0.0, 1.0, 0.0, 0.0, 0.0, 0.0, ...</td>\n",
       "    </tr>\n",
       "  </tbody>\n",
       "</table>\n",
       "</div>"
      ],
      "text/plain": [
       "         date  date_block_num  shop_id  item_id  item_price  item_cnt_day  \\\n",
       "0  02.01.2013               0       59    22154      999.00           1.0   \n",
       "1  03.01.2013               0       25     2552      899.00           1.0   \n",
       "2  05.01.2013               0       25     2552      899.00          -1.0   \n",
       "3  06.01.2013               0       25     2554     1709.05           1.0   \n",
       "4  15.01.2013               0       25     2555     1099.00           1.0   \n",
       "5  10.01.2013               0       25     2564      349.00           1.0   \n",
       "6  02.01.2013               0       25     2565      549.00           1.0   \n",
       "7  04.01.2013               0       25     2572      239.00           1.0   \n",
       "8  11.01.2013               0       25     2572      299.00           1.0   \n",
       "9  03.01.2013               0       25     2573      299.00           3.0   \n",
       "\n",
       "                                       bow_item_name item_category_id  \\\n",
       "0  (0.0, 0.0, 1.0, 0.0, 0.0, 0.0, 0.0, 0.0, 0.0, ...               37   \n",
       "1  (0.0, 0.0, 0.0, 0.0, 0.0, 0.0, 0.0, 0.0, 0.0, ...               58   \n",
       "2  (0.0, 0.0, 0.0, 0.0, 0.0, 0.0, 0.0, 0.0, 0.0, ...               58   \n",
       "3  (0.0, 0.0, 0.0, 0.0, 0.0, 0.0, 0.0, 0.0, 0.0, ...               58   \n",
       "4  (0.0, 0.0, 0.0, 0.0, 0.0, 0.0, 1.0, 0.0, 0.0, ...               56   \n",
       "5  (0.0, 0.0, 0.0, 0.0, 0.0, 0.0, 0.0, 0.0, 0.0, ...               59   \n",
       "6  (0.0, 0.0, 0.0, 0.0, 0.0, 0.0, 0.0, 0.0, 0.0, ...               56   \n",
       "7  (0.0, 0.0, 0.0, 0.0, 0.0, 0.0, 0.0, 0.0, 0.0, ...               55   \n",
       "8  (0.0, 0.0, 0.0, 0.0, 0.0, 0.0, 0.0, 0.0, 0.0, ...               55   \n",
       "9  (0.0, 0.0, 0.0, 0.0, 0.0, 0.0, 0.0, 0.0, 0.0, ...               55   \n",
       "\n",
       "                              bow_item_category_name  \\\n",
       "0  (0.0, 0.0, 0.0, 0.0, 0.0, 0.0, 0.0, 0.0, 0.0, ...   \n",
       "1  (0.0, 0.0, 0.0, 0.0, 0.0, 0.0, 0.0, 0.0, 1.0, ...   \n",
       "2  (0.0, 0.0, 0.0, 0.0, 0.0, 0.0, 0.0, 0.0, 1.0, ...   \n",
       "3  (0.0, 0.0, 0.0, 0.0, 0.0, 0.0, 0.0, 0.0, 1.0, ...   \n",
       "4  (0.0, 0.0, 0.0, 0.0, 0.0, 0.0, 0.0, 0.0, 1.0, ...   \n",
       "5  (0.0, 0.0, 0.0, 0.0, 0.0, 0.0, 0.0, 0.0, 1.0, ...   \n",
       "6  (0.0, 0.0, 0.0, 0.0, 0.0, 0.0, 0.0, 0.0, 1.0, ...   \n",
       "7  (0.0, 0.0, 0.0, 0.0, 0.0, 0.0, 0.0, 0.0, 1.0, ...   \n",
       "8  (0.0, 0.0, 0.0, 0.0, 0.0, 0.0, 0.0, 0.0, 1.0, ...   \n",
       "9  (0.0, 0.0, 0.0, 0.0, 0.0, 0.0, 0.0, 0.0, 1.0, ...   \n",
       "\n",
       "                                       bow_shop_name  \n",
       "0  (1.0, 0.0, 0.0, 0.0, 0.0, 0.0, 0.0, 0.0, 0.0, ...  \n",
       "1  (0.0, 1.0, 0.0, 0.0, 1.0, 0.0, 0.0, 0.0, 0.0, ...  \n",
       "2  (0.0, 1.0, 0.0, 0.0, 1.0, 0.0, 0.0, 0.0, 0.0, ...  \n",
       "3  (0.0, 1.0, 0.0, 0.0, 1.0, 0.0, 0.0, 0.0, 0.0, ...  \n",
       "4  (0.0, 1.0, 0.0, 0.0, 1.0, 0.0, 0.0, 0.0, 0.0, ...  \n",
       "5  (0.0, 1.0, 0.0, 0.0, 1.0, 0.0, 0.0, 0.0, 0.0, ...  \n",
       "6  (0.0, 1.0, 0.0, 0.0, 1.0, 0.0, 0.0, 0.0, 0.0, ...  \n",
       "7  (0.0, 1.0, 0.0, 0.0, 1.0, 0.0, 0.0, 0.0, 0.0, ...  \n",
       "8  (0.0, 1.0, 0.0, 0.0, 1.0, 0.0, 0.0, 0.0, 0.0, ...  \n",
       "9  (0.0, 1.0, 0.0, 0.0, 1.0, 0.0, 0.0, 0.0, 0.0, ...  "
      ]
     },
     "execution_count": 15,
     "metadata": {},
     "output_type": "execute_result"
    }
   ],
   "source": [
    "transactions.limit(10).toPandas()"
   ]
  },
  {
   "cell_type": "code",
   "execution_count": null,
   "id": "dd17b515",
   "metadata": {},
   "outputs": [],
   "source": []
  }
 ],
 "metadata": {
  "kernelspec": {
   "display_name": "Python 3",
   "language": "python",
   "name": "python3"
  },
  "language_info": {
   "codemirror_mode": {
    "name": "ipython",
    "version": 3
   },
   "file_extension": ".py",
   "mimetype": "text/x-python",
   "name": "python",
   "nbconvert_exporter": "python",
   "pygments_lexer": "ipython3",
   "version": "3.8.5"
  },
  "toc": {
   "base_numbering": 1,
   "nav_menu": {},
   "number_sections": true,
   "sideBar": true,
   "skip_h1_title": false,
   "title_cell": "Table of Contents",
   "title_sidebar": "Contents",
   "toc_cell": false,
   "toc_position": {},
   "toc_section_display": true,
   "toc_window_display": false
  },
  "varInspector": {
   "cols": {
    "lenName": 16,
    "lenType": 16,
    "lenVar": 40
   },
   "kernels_config": {
    "python": {
     "delete_cmd_postfix": "",
     "delete_cmd_prefix": "del ",
     "library": "var_list.py",
     "varRefreshCmd": "print(var_dic_list())"
    },
    "r": {
     "delete_cmd_postfix": ") ",
     "delete_cmd_prefix": "rm(",
     "library": "var_list.r",
     "varRefreshCmd": "cat(var_dic_list()) "
    }
   },
   "types_to_exclude": [
    "module",
    "function",
    "builtin_function_or_method",
    "instance",
    "_Feature"
   ],
   "window_display": false
  }
 },
 "nbformat": 4,
 "nbformat_minor": 5
}
