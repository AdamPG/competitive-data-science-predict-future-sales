{
 "cells": [
  {
   "cell_type": "markdown",
   "id": "c1f83359",
   "metadata": {},
   "source": [
    "# Import packages and load dataframes"
   ]
  },
  {
   "cell_type": "code",
   "execution_count": 1,
   "id": "d912a4a3",
   "metadata": {},
   "outputs": [],
   "source": [
    "import pandas as pd\n",
    "import os\n",
    "import numpy as np\n",
    "from nltk.stem.snowball import SnowballStemmer\n",
    "from nltk.corpus import stopwords\n",
    "import re\n",
    "import regex\n",
    "from itertools import product\n",
    "import gc\n",
    "from tqdm.notebook import tqdm as tqdm_notebook\n",
    "from sklearn.model_selection import KFold\n",
    "from sklearn.feature_extraction.text import TfidfVectorizer\n",
    "import xgboost as xgb\n",
    "import mlflow"
   ]
  },
  {
   "cell_type": "code",
   "execution_count": 2,
   "id": "852ef838",
   "metadata": {},
   "outputs": [],
   "source": [
    "DATA_FOLDER = 'data/'\n",
    "\n",
    "sales = pd.read_csv(os.path.join(DATA_FOLDER, 'sales_train.csv'))\n",
    "shops = pd.read_csv(os.path.join(DATA_FOLDER, 'shops.csv'))\n",
    "items = pd.read_csv(os.path.join(DATA_FOLDER, 'items.csv'))\n",
    "item_cats = pd.read_csv(os.path.join(DATA_FOLDER, 'item_categories.csv'))\n",
    "test = pd.read_csv(os.path.join(DATA_FOLDER, 'test.csv'))"
   ]
  },
  {
   "cell_type": "markdown",
   "id": "099c2592",
   "metadata": {},
   "source": [
    "# Define some helper functions"
   ]
  },
  {
   "cell_type": "code",
   "execution_count": 3,
   "id": "26728747",
   "metadata": {},
   "outputs": [],
   "source": [
    "def downcast_dtypes(df):\n",
    "    '''\n",
    "        Changes column types in the dataframe: \n",
    "                \n",
    "                `float64` type to `float32`\n",
    "                `int64`   type to `int32`\n",
    "    '''\n",
    "    \n",
    "    # Select columns to downcast\n",
    "    float_cols = [c for c in df if df[c].dtype == \"float64\"]\n",
    "    int_cols =   [c for c in df if df[c].dtype == \"int64\"]\n",
    "    \n",
    "    # Downcast\n",
    "    df[float_cols] = df[float_cols].astype(np.float32)\n",
    "    df[int_cols]   = df[int_cols].astype(np.int32)\n",
    "    \n",
    "    return df"
   ]
  },
  {
   "cell_type": "markdown",
   "id": "fc135515",
   "metadata": {},
   "source": [
    "# Feature Extraction"
   ]
  },
  {
   "cell_type": "markdown",
   "id": "bffc0f01",
   "metadata": {},
   "source": [
    "## Create the base training dataframe"
   ]
  },
  {
   "cell_type": "code",
   "execution_count": 4,
   "id": "92bdcca0",
   "metadata": {},
   "outputs": [],
   "source": [
    "# Create \"grid\" with columns\n",
    "index_cols = ['shop_id', 'item_id', 'date_block_num']\n",
    "\n",
    "# For every month we create a grid from all shops/items combinations from that month\n",
    "grid = [] \n",
    "for block_num in sales['date_block_num'].unique():\n",
    "    cur_shops = sales.loc[sales['date_block_num'] == block_num, 'shop_id'].unique()\n",
    "    cur_items = sales.loc[sales['date_block_num'] == block_num, 'item_id'].unique()\n",
    "    grid.append(np.array(list(product(*[cur_shops, cur_items, [block_num]])),dtype='int32'))\n",
    "\n",
    "# Turn the grid into a dataframe\n",
    "all_data = pd.DataFrame(np.vstack(grid), columns = index_cols,dtype=np.int32)"
   ]
  },
  {
   "cell_type": "markdown",
   "id": "2d8a4663",
   "metadata": {},
   "source": [
    "## Aggregate sales and revenue by month, item id and shop id."
   ]
  },
  {
   "cell_type": "markdown",
   "id": "2bb89e30",
   "metadata": {},
   "source": [
    "Add item revenue as a feature to the transactions dataframe."
   ]
  },
  {
   "cell_type": "code",
   "execution_count": 5,
   "id": "bec30e46",
   "metadata": {},
   "outputs": [],
   "source": [
    "sales['item_revenue'] = sales.item_cnt_day * sales.item_price"
   ]
  },
  {
   "cell_type": "markdown",
   "id": "3bab6fcd",
   "metadata": {},
   "source": [
    "Aggregate sales."
   ]
  },
  {
   "cell_type": "code",
   "execution_count": 6,
   "id": "8cb7b05d",
   "metadata": {},
   "outputs": [],
   "source": [
    "# Groupby data to get shop-item-month aggregates\n",
    "gb = sales.groupby(index_cols,as_index=False).agg({'item_cnt_day':'sum'})\n",
    "# Fix column names\n",
    "gb.columns = ['target' if col == 'item_cnt_day' else col for col in gb.columns.values]\n",
    "# Join it to the grid\n",
    "all_data = pd.merge(all_data, gb, how='left', on=index_cols).fillna(0)\n",
    "\n",
    "# Same as above but with shop-month aggregates\n",
    "gb = sales.groupby(['shop_id', 'date_block_num'],as_index=False).agg({'item_cnt_day':'sum'})\n",
    "gb.columns = ['target_shop' if col == 'item_cnt_day' else col for col in gb.columns.values]\n",
    "all_data = pd.merge(all_data, gb, how='left', on=['shop_id', 'date_block_num']).fillna(0)\n",
    "\n",
    "# Same as above but with item-month aggregates\n",
    "gb = sales.groupby(['item_id', 'date_block_num'],as_index=False).agg({'item_cnt_day':'sum'})\n",
    "gb.columns = ['target_item' if col == 'item_cnt_day' else col for col in gb.columns.values]\n",
    "all_data = pd.merge(all_data, gb, how='left', on=['item_id', 'date_block_num']).fillna(0)\n",
    "\n",
    "# Downcast dtypes from 64 to 32 bit to save memory\n",
    "all_data = downcast_dtypes(all_data)\n",
    "# del grid, gb \n",
    "gc.collect();"
   ]
  },
  {
   "cell_type": "markdown",
   "id": "97752e10",
   "metadata": {},
   "source": [
    "Aggregate revenue."
   ]
  },
  {
   "cell_type": "code",
   "execution_count": 7,
   "id": "45007a8d",
   "metadata": {},
   "outputs": [],
   "source": [
    "# Groupby data to get shop-item-month aggregates\n",
    "gb = sales.groupby(index_cols,as_index=False).agg({'item_revenue':'sum'})\n",
    "# Fix column names\n",
    "gb.columns = ['revenue' if col == 'item_revenue' else col for col in gb.columns.values]\n",
    "# Join it to the grid\n",
    "all_data = pd.merge(all_data, gb, how='left', on=index_cols).fillna(0)\n",
    "\n",
    "# Same as above but with shop-month aggregates\n",
    "gb = sales.groupby(['shop_id', 'date_block_num'],as_index=False).agg({'item_revenue':'sum'})\n",
    "gb.columns = ['revenue_shop' if col == 'item_revenue' else col for col in gb.columns.values]\n",
    "all_data = pd.merge(all_data, gb, how='left', on=['shop_id', 'date_block_num']).fillna(0)\n",
    "\n",
    "# Same as above but with item-month aggregates\n",
    "gb = sales.groupby(['item_id', 'date_block_num'],as_index=False).agg({'item_revenue':'sum'})\n",
    "gb.columns = ['revenue_item' if col == 'item_revenue' else col for col in gb.columns.values]\n",
    "all_data = pd.merge(all_data, gb, how='left', on=['item_id', 'date_block_num']).fillna(0)\n",
    "\n",
    "# Downcast dtypes from 64 to 32 bit to save memory\n",
    "all_data = downcast_dtypes(all_data)\n",
    "# del grid, gb \n",
    "gc.collect();"
   ]
  },
  {
   "cell_type": "markdown",
   "id": "5d3f2d7a",
   "metadata": {},
   "source": [
    "## Normalize numerical features"
   ]
  },
  {
   "cell_type": "markdown",
   "id": "a36eec58",
   "metadata": {},
   "source": [
    "We choose to normalize using a min-max scaler."
   ]
  },
  {
   "cell_type": "code",
   "execution_count": 8,
   "id": "ec10f89f",
   "metadata": {},
   "outputs": [],
   "source": [
    "# Create a list of numerical columns to normalize\n",
    "num_cols = [col for col in all_data.columns if col.startswith('target') or col.startswith('revenue')]\n",
    "\n",
    "# Normalize the columns\n",
    "for col in num_cols:\n",
    "    col_min = all_data[col].min()\n",
    "    col_max = all_data[col].max()\n",
    "    all_data[col + '_normalized'] = (all_data[col] - col_min) / (col_max - col_min)"
   ]
  },
  {
   "cell_type": "markdown",
   "id": "b540c067",
   "metadata": {},
   "source": [
    "Prepare to drop unnormalized columns except for 'target'."
   ]
  },
  {
   "cell_type": "code",
   "execution_count": 9,
   "id": "a3036eb1",
   "metadata": {},
   "outputs": [],
   "source": [
    "cols_to_drop = [col for col in num_cols if col != 'target']"
   ]
  },
  {
   "cell_type": "markdown",
   "id": "00c684a4",
   "metadata": {},
   "source": [
    "## Add values from previous months as features"
   ]
  },
  {
   "cell_type": "markdown",
   "id": "b7edf635",
   "metadata": {},
   "source": [
    "Create new features using lags from [1, 2, 3, 4, 5, 12] months ago."
   ]
  },
  {
   "cell_type": "code",
   "execution_count": 10,
   "id": "f9be62b8",
   "metadata": {
    "scrolled": true
   },
   "outputs": [
    {
     "data": {
      "application/vnd.jupyter.widget-view+json": {
       "model_id": "d89ffe5de4294f60969dc4266d9b6fa9",
       "version_major": 2,
       "version_minor": 0
      },
      "text/plain": [
       "  0%|          | 0/6 [00:00<?, ?it/s]"
      ]
     },
     "metadata": {},
     "output_type": "display_data"
    }
   ],
   "source": [
    "# List of columns that we will use to create lags\n",
    "cols_to_rename = [col for col in all_data.columns if col.endswith('normalized')]\n",
    "\n",
    "shift_range = [1, 2, 3, 4, 5, 12]\n",
    "\n",
    "for month_shift in tqdm_notebook(shift_range):\n",
    "    train_shift = all_data[index_cols + cols_to_rename].copy()\n",
    "    \n",
    "    train_shift['date_block_num'] = train_shift['date_block_num'] + month_shift\n",
    "    \n",
    "    foo = lambda x: '{}_lag_{}'.format(x, month_shift) if x in cols_to_rename else x\n",
    "    train_shift = train_shift.rename(columns=foo)\n",
    "\n",
    "    all_data = pd.merge(all_data, train_shift, on=index_cols, how='left').fillna(0)\n",
    "\n",
    "del train_shift\n",
    "\n",
    "# Don't use old data from year 2013\n",
    "all_data = all_data[all_data['date_block_num'] >= 12] \n",
    "\n",
    "# Category for each item\n",
    "item_category_mapping = items[['item_id','item_category_id']].drop_duplicates()\n",
    "\n",
    "all_data = pd.merge(all_data, item_category_mapping, how='left', on='item_id')\n",
    "all_data = downcast_dtypes(all_data)\n",
    "gc.collect();"
   ]
  },
  {
   "cell_type": "markdown",
   "id": "ac12354a",
   "metadata": {},
   "source": [
    "Normalized targets and revenues without a lag are not available as features in the test dataset, so we will drop them during training."
   ]
  },
  {
   "cell_type": "code",
   "execution_count": 11,
   "id": "33d0136f",
   "metadata": {},
   "outputs": [],
   "source": [
    "cols_to_drop = cols_to_drop + [col + '_normalized' for col in num_cols]"
   ]
  },
  {
   "cell_type": "markdown",
   "id": "9549e253",
   "metadata": {},
   "source": [
    "## Extract text-based features"
   ]
  },
  {
   "cell_type": "markdown",
   "id": "554e97b0",
   "metadata": {},
   "source": [
    "### Stem the text"
   ]
  },
  {
   "cell_type": "markdown",
   "id": "e27571ef",
   "metadata": {},
   "source": [
    "Define a stemmer that can handle both Russian and English text using nltk's Snowball Stemmer."
   ]
  },
  {
   "cell_type": "code",
   "execution_count": 12,
   "id": "eabdba7f",
   "metadata": {},
   "outputs": [],
   "source": [
    "en_stemmer = SnowballStemmer('english', ignore_stopwords=True)\n",
    "ru_stemmer = SnowballStemmer('russian', ignore_stopwords=True)\n",
    "\n",
    "cyr_regex = regex.compile('\\p{Cyrillic}+', regex.UNICODE)\n",
    "lat_regex = regex.compile('\\p{Latin}+', regex.UNICODE)\n",
    "\n",
    "en_stopwords = stopwords.words(\"english\")\n",
    "ru_stopwords = stopwords.words(\"russian\")"
   ]
  },
  {
   "cell_type": "code",
   "execution_count": 13,
   "id": "b693b63c",
   "metadata": {},
   "outputs": [],
   "source": [
    "def clean_text(text):\n",
    "    \"\"\" Removes punctuation from string, unwanted unicode characters, and numbers. Returns in lowercase.\n",
    "    \n",
    "    Args:\n",
    "        text (str): The text to clean.\n",
    "    \n",
    "    Returns:\n",
    "        The cleaned text after filtered by the regex expression and made lowercase.\n",
    "    \n",
    "    For more information on the unicode categories used in the regex expression see here:\n",
    "    https://www.regular-expressions.info/unicode.html#category\n",
    "    \n",
    "    >>> clean_text(\"!$%&\\'()*+,-./:;<=>?@[\\\\]^_`{|}~ Can't, - Trademark™ ...「（Punctuation）」42.32 ?\")\n",
    "    cant trademark punctuation\n",
    "    \n",
    "    \"\"\"\n",
    "    # remove URLs\n",
    "    text = re.sub(r\"http\\S+\", \"\", text)\n",
    "    # remove apostrophes \n",
    "    text = text.replace(\"'\", \"\")\n",
    "    \n",
    "    # Define regex unicode Categories and strip from string\n",
    "    remove = regex.compile('[\\p{C}|\\p{M}|\\p{P}|\\p{S}|\\p{Z}|\\p{N}]+', regex.UNICODE)\n",
    "    text = remove.sub(\" \", text).strip()\n",
    "    \n",
    "    # make lowercase\n",
    "    text = text.lower()\n",
    "    \n",
    "    return text"
   ]
  },
  {
   "cell_type": "markdown",
   "id": "48d3472a",
   "metadata": {},
   "source": [
    "Apply clean_text to stopwords to make removal easier in the preprocess_text function below."
   ]
  },
  {
   "cell_type": "code",
   "execution_count": 14,
   "id": "0aca83c8",
   "metadata": {},
   "outputs": [],
   "source": [
    "cleaned_en_stopwords = [clean_text(word) for word in en_stopwords]\n",
    "cleaned_ru_stopwords = [clean_text(word) for word in ru_stopwords]"
   ]
  },
  {
   "cell_type": "code",
   "execution_count": 15,
   "id": "d448eab2",
   "metadata": {},
   "outputs": [],
   "source": [
    "def preprocess_text(text):\n",
    "    \"\"\"Identify the words written in Cyrillic and Latin characters in a string,\n",
    "    remove stop words and apply a Russian or English stemmer, respectively.\n",
    "    \n",
    "    Args:\n",
    "        text(str): The string whose Cyrillic and Latin text will be stemmed.\n",
    "    \n",
    "    Returns:\n",
    "        A stemmed version of the text.\n",
    "    \"\"\"\n",
    "    if text is None:\n",
    "        return []\n",
    "    \n",
    "    text = clean_text(text)\n",
    "\n",
    "    words = re.split('\\s', text)\n",
    "    stemmed_sentence = ''\n",
    "    for word in words:\n",
    "        ru = regex.search(cyr_regex, word)\n",
    "        en = regex.search(lat_regex, word)\n",
    "        if ru:\n",
    "            # drop stopwords from the sentence\n",
    "            if word in cleaned_ru_stopwords:\n",
    "                continue\n",
    "            stemmed_word = ru_stemmer.stem(word)\n",
    "        elif en:\n",
    "            # drop stopwords from the sentence\n",
    "            if word in cleaned_en_stopwords:\n",
    "                continue\n",
    "            stemmed_word = en_stemmer.stem(word)\n",
    "        else:\n",
    "            stemmed_word = word\n",
    "        stemmed_sentence = stemmed_sentence + ' ' + stemmed_word\n",
    "    \n",
    "    return stemmed_sentence[1:]"
   ]
  },
  {
   "cell_type": "markdown",
   "id": "955a7643",
   "metadata": {},
   "source": [
    "Demonstrate function on sample text from the dataset."
   ]
  },
  {
   "cell_type": "code",
   "execution_count": 16,
   "id": "dc735c68",
   "metadata": {},
   "outputs": [
    {
     "data": {
      "text/plain": [
       "'кин blu ray'"
      ]
     },
     "execution_count": 16,
     "metadata": {},
     "output_type": "execute_result"
    }
   ],
   "source": [
    "text = '(Кино) - Blu-Ray'\n",
    "\n",
    "preprocess_text(text)"
   ]
  },
  {
   "cell_type": "markdown",
   "id": "4d3148d2",
   "metadata": {},
   "source": [
    "Apply stemmer to columns containing text."
   ]
  },
  {
   "cell_type": "code",
   "execution_count": 17,
   "id": "d7101056",
   "metadata": {},
   "outputs": [],
   "source": [
    "shops['preprocessed_shop_name'] = shops['shop_name'].map(preprocess_text)\n",
    "items['preprocessed_item_name'] = items['item_name'].map(preprocess_text)\n",
    "item_cats['preprocessed_item_category_name'] = item_cats['item_category_name'].map(preprocess_text)"
   ]
  },
  {
   "cell_type": "markdown",
   "id": "455c229c",
   "metadata": {},
   "source": [
    "### Vectorize using TF-IDF"
   ]
  },
  {
   "cell_type": "code",
   "execution_count": 18,
   "id": "c98f245c",
   "metadata": {},
   "outputs": [],
   "source": [
    "vectorizer = TfidfVectorizer(min_df=3)"
   ]
  },
  {
   "cell_type": "code",
   "execution_count": 19,
   "id": "45db070b",
   "metadata": {},
   "outputs": [],
   "source": [
    "tfidf_shop_names = vectorizer.fit_transform(shops['preprocessed_shop_name'].values)\n",
    "tfidf_shop_names = pd.DataFrame.sparse.from_spmatrix(tfidf_shop_names)\n",
    "tfidf_shop_names.columns = ['vect_shop_name_' + str(col) for col in tfidf_shop_names.columns]\n",
    "shops = shops.join(tfidf_shop_names)\n",
    "\n",
    "tfidf_item_names = vectorizer.fit_transform(items['preprocessed_item_name'].values)\n",
    "tfidf_item_names = pd.DataFrame.sparse.from_spmatrix(tfidf_item_names)\n",
    "tfidf_item_names.columns = ['vect_item_name_' + str(col) for col in tfidf_item_names.columns]\n",
    "items = items.join(tfidf_item_names)\n",
    "\n",
    "tfidf_item_cat_names = vectorizer.fit_transform(item_cats['preprocessed_item_category_name'].values)\n",
    "tfidf_item_cat_names = pd.DataFrame.sparse.from_spmatrix(tfidf_item_cat_names)\n",
    "tfidf_item_cat_names.columns = ['vect_item_category_name_' + str(col) for col in tfidf_item_cat_names.columns]\n",
    "item_cats = item_cats.join(tfidf_item_cat_names)"
   ]
  },
  {
   "cell_type": "markdown",
   "id": "463cac91",
   "metadata": {},
   "source": [
    "### Join TFIDF-encoded item/item category/shop names onto the training dataframe"
   ]
  },
  {
   "cell_type": "code",
   "execution_count": 20,
   "id": "5409b628",
   "metadata": {},
   "outputs": [],
   "source": [
    "# vect_shop_cols = [col for col in shops.columns if col.startswith('vect')]\n",
    "# all_data = all_data.join(shops[vect_shop_cols], on='shop_id', how='left')\n",
    "\n",
    "# vect_item_cols = [col for col in items.columns if col.startswith('vect')]\n",
    "# all_data = all_data.join(items[vect_item_cols], on='item_id', how='left')\n",
    "\n",
    "# vect_item_cat_cols = [col for col in item_cats.columns if col.startswith('vect')]\n",
    "# all_data = all_data.join(item_cats[vect_item_cat_cols], on='item_category_id', how='left')"
   ]
  },
  {
   "cell_type": "markdown",
   "id": "cdb56e8b",
   "metadata": {},
   "source": [
    "## Mean encode categorical features"
   ]
  },
  {
   "cell_type": "code",
   "execution_count": 21,
   "id": "bd266d59",
   "metadata": {},
   "outputs": [],
   "source": [
    "kf = KFold(n_splits=5, shuffle=False)\n",
    "\n",
    "cat_cols = ['shop_id', 'item_id', 'item_category_id']\n",
    "\n",
    "for col in cat_cols:\n",
    "    all_data[col + '_enc'] = np.nan\n",
    "\n",
    "    for train_index, val_index in kf.split(all_data):\n",
    "        train_data, val_data = all_data.iloc[train_index].copy(), all_data.iloc[val_index].copy()\n",
    "        target_mean = train_data.groupby(col).target.mean()\n",
    "        val_data[col + '_enc'] = val_data[col].map(target_mean)\n",
    "        all_data.iloc[val_index] = val_data\n",
    "\n",
    "    all_data[col + '_enc'].fillna(0.3343, inplace=True)\n",
    "    \n",
    "all_data = downcast_dtypes(all_data)"
   ]
  },
  {
   "cell_type": "markdown",
   "id": "25f181d9",
   "metadata": {},
   "source": [
    "Prepare to drop the non-encoded categorical variables during training."
   ]
  },
  {
   "cell_type": "code",
   "execution_count": 22,
   "id": "8a331753",
   "metadata": {},
   "outputs": [],
   "source": [
    "cols_to_drop = cols_to_drop + cat_cols"
   ]
  },
  {
   "cell_type": "markdown",
   "id": "ff0c07e3",
   "metadata": {},
   "source": [
    "# Display the resulting dataframe"
   ]
  },
  {
   "cell_type": "markdown",
   "id": "24f63f7e",
   "metadata": {},
   "source": [
    "All columns:"
   ]
  },
  {
   "cell_type": "code",
   "execution_count": 23,
   "id": "970bad6c",
   "metadata": {},
   "outputs": [
    {
     "data": {
      "text/html": [
       "<div>\n",
       "<style scoped>\n",
       "    .dataframe tbody tr th:only-of-type {\n",
       "        vertical-align: middle;\n",
       "    }\n",
       "\n",
       "    .dataframe tbody tr th {\n",
       "        vertical-align: top;\n",
       "    }\n",
       "\n",
       "    .dataframe thead th {\n",
       "        text-align: right;\n",
       "    }\n",
       "</style>\n",
       "<table border=\"1\" class=\"dataframe\">\n",
       "  <thead>\n",
       "    <tr style=\"text-align: right;\">\n",
       "      <th></th>\n",
       "      <th>shop_id</th>\n",
       "      <th>item_id</th>\n",
       "      <th>date_block_num</th>\n",
       "      <th>target</th>\n",
       "      <th>target_shop</th>\n",
       "      <th>target_item</th>\n",
       "      <th>revenue</th>\n",
       "      <th>revenue_shop</th>\n",
       "      <th>revenue_item</th>\n",
       "      <th>target_normalized</th>\n",
       "      <th>...</th>\n",
       "      <th>target_normalized_lag_12</th>\n",
       "      <th>target_shop_normalized_lag_12</th>\n",
       "      <th>target_item_normalized_lag_12</th>\n",
       "      <th>revenue_normalized_lag_12</th>\n",
       "      <th>revenue_shop_normalized_lag_12</th>\n",
       "      <th>revenue_item_normalized_lag_12</th>\n",
       "      <th>item_category_id</th>\n",
       "      <th>shop_id_enc</th>\n",
       "      <th>item_id_enc</th>\n",
       "      <th>item_category_id_enc</th>\n",
       "    </tr>\n",
       "  </thead>\n",
       "  <tbody>\n",
       "    <tr>\n",
       "      <th>0</th>\n",
       "      <td>54</td>\n",
       "      <td>10297</td>\n",
       "      <td>12</td>\n",
       "      <td>4.0</td>\n",
       "      <td>8198.0</td>\n",
       "      <td>23.0</td>\n",
       "      <td>2996.0</td>\n",
       "      <td>5272898.5</td>\n",
       "      <td>17227.0</td>\n",
       "      <td>0.011429</td>\n",
       "      <td>...</td>\n",
       "      <td>0.0</td>\n",
       "      <td>0.0</td>\n",
       "      <td>0.0</td>\n",
       "      <td>0.0</td>\n",
       "      <td>0.0</td>\n",
       "      <td>0.0</td>\n",
       "      <td>37</td>\n",
       "      <td>0.828419</td>\n",
       "      <td>0.074755</td>\n",
       "      <td>0.162759</td>\n",
       "    </tr>\n",
       "    <tr>\n",
       "      <th>1</th>\n",
       "      <td>54</td>\n",
       "      <td>10296</td>\n",
       "      <td>12</td>\n",
       "      <td>3.0</td>\n",
       "      <td>8198.0</td>\n",
       "      <td>17.0</td>\n",
       "      <td>4797.0</td>\n",
       "      <td>5272898.5</td>\n",
       "      <td>26684.0</td>\n",
       "      <td>0.010989</td>\n",
       "      <td>...</td>\n",
       "      <td>0.0</td>\n",
       "      <td>0.0</td>\n",
       "      <td>0.0</td>\n",
       "      <td>0.0</td>\n",
       "      <td>0.0</td>\n",
       "      <td>0.0</td>\n",
       "      <td>38</td>\n",
       "      <td>0.828419</td>\n",
       "      <td>0.098630</td>\n",
       "      <td>0.169217</td>\n",
       "    </tr>\n",
       "    <tr>\n",
       "      <th>2</th>\n",
       "      <td>54</td>\n",
       "      <td>10298</td>\n",
       "      <td>12</td>\n",
       "      <td>14.0</td>\n",
       "      <td>8198.0</td>\n",
       "      <td>182.0</td>\n",
       "      <td>5586.0</td>\n",
       "      <td>5272898.5</td>\n",
       "      <td>71948.0</td>\n",
       "      <td>0.015824</td>\n",
       "      <td>...</td>\n",
       "      <td>0.0</td>\n",
       "      <td>0.0</td>\n",
       "      <td>0.0</td>\n",
       "      <td>0.0</td>\n",
       "      <td>0.0</td>\n",
       "      <td>0.0</td>\n",
       "      <td>40</td>\n",
       "      <td>0.828419</td>\n",
       "      <td>1.431898</td>\n",
       "      <td>0.241341</td>\n",
       "    </tr>\n",
       "    <tr>\n",
       "      <th>3</th>\n",
       "      <td>54</td>\n",
       "      <td>10300</td>\n",
       "      <td>12</td>\n",
       "      <td>3.0</td>\n",
       "      <td>8198.0</td>\n",
       "      <td>26.0</td>\n",
       "      <td>2097.0</td>\n",
       "      <td>5272898.5</td>\n",
       "      <td>18174.0</td>\n",
       "      <td>0.010989</td>\n",
       "      <td>...</td>\n",
       "      <td>0.0</td>\n",
       "      <td>0.0</td>\n",
       "      <td>0.0</td>\n",
       "      <td>0.0</td>\n",
       "      <td>0.0</td>\n",
       "      <td>0.0</td>\n",
       "      <td>37</td>\n",
       "      <td>0.828419</td>\n",
       "      <td>0.213953</td>\n",
       "      <td>0.162759</td>\n",
       "    </tr>\n",
       "    <tr>\n",
       "      <th>4</th>\n",
       "      <td>54</td>\n",
       "      <td>10284</td>\n",
       "      <td>12</td>\n",
       "      <td>1.0</td>\n",
       "      <td>8198.0</td>\n",
       "      <td>3.0</td>\n",
       "      <td>299.0</td>\n",
       "      <td>5272898.5</td>\n",
       "      <td>897.0</td>\n",
       "      <td>0.010110</td>\n",
       "      <td>...</td>\n",
       "      <td>0.0</td>\n",
       "      <td>0.0</td>\n",
       "      <td>0.0</td>\n",
       "      <td>0.0</td>\n",
       "      <td>0.0</td>\n",
       "      <td>0.0</td>\n",
       "      <td>57</td>\n",
       "      <td>0.828419</td>\n",
       "      <td>0.062338</td>\n",
       "      <td>0.092227</td>\n",
       "    </tr>\n",
       "  </tbody>\n",
       "</table>\n",
       "<p>5 rows × 55 columns</p>\n",
       "</div>"
      ],
      "text/plain": [
       "   shop_id  item_id  date_block_num  target  target_shop  target_item  \\\n",
       "0       54    10297              12     4.0       8198.0         23.0   \n",
       "1       54    10296              12     3.0       8198.0         17.0   \n",
       "2       54    10298              12    14.0       8198.0        182.0   \n",
       "3       54    10300              12     3.0       8198.0         26.0   \n",
       "4       54    10284              12     1.0       8198.0          3.0   \n",
       "\n",
       "   revenue  revenue_shop  revenue_item  target_normalized  ...  \\\n",
       "0   2996.0     5272898.5       17227.0           0.011429  ...   \n",
       "1   4797.0     5272898.5       26684.0           0.010989  ...   \n",
       "2   5586.0     5272898.5       71948.0           0.015824  ...   \n",
       "3   2097.0     5272898.5       18174.0           0.010989  ...   \n",
       "4    299.0     5272898.5         897.0           0.010110  ...   \n",
       "\n",
       "   target_normalized_lag_12  target_shop_normalized_lag_12  \\\n",
       "0                       0.0                            0.0   \n",
       "1                       0.0                            0.0   \n",
       "2                       0.0                            0.0   \n",
       "3                       0.0                            0.0   \n",
       "4                       0.0                            0.0   \n",
       "\n",
       "   target_item_normalized_lag_12  revenue_normalized_lag_12  \\\n",
       "0                            0.0                        0.0   \n",
       "1                            0.0                        0.0   \n",
       "2                            0.0                        0.0   \n",
       "3                            0.0                        0.0   \n",
       "4                            0.0                        0.0   \n",
       "\n",
       "   revenue_shop_normalized_lag_12  revenue_item_normalized_lag_12  \\\n",
       "0                             0.0                             0.0   \n",
       "1                             0.0                             0.0   \n",
       "2                             0.0                             0.0   \n",
       "3                             0.0                             0.0   \n",
       "4                             0.0                             0.0   \n",
       "\n",
       "   item_category_id  shop_id_enc  item_id_enc  item_category_id_enc  \n",
       "0                37     0.828419     0.074755              0.162759  \n",
       "1                38     0.828419     0.098630              0.169217  \n",
       "2                40     0.828419     1.431898              0.241341  \n",
       "3                37     0.828419     0.213953              0.162759  \n",
       "4                57     0.828419     0.062338              0.092227  \n",
       "\n",
       "[5 rows x 55 columns]"
      ]
     },
     "execution_count": 23,
     "metadata": {},
     "output_type": "execute_result"
    }
   ],
   "source": [
    "all_data.head()"
   ]
  },
  {
   "cell_type": "markdown",
   "id": "3cbbcf72",
   "metadata": {},
   "source": [
    "Columns to be passed into the model:"
   ]
  },
  {
   "cell_type": "code",
   "execution_count": 24,
   "id": "9f7ff076",
   "metadata": {},
   "outputs": [
    {
     "data": {
      "text/html": [
       "<div>\n",
       "<style scoped>\n",
       "    .dataframe tbody tr th:only-of-type {\n",
       "        vertical-align: middle;\n",
       "    }\n",
       "\n",
       "    .dataframe tbody tr th {\n",
       "        vertical-align: top;\n",
       "    }\n",
       "\n",
       "    .dataframe thead th {\n",
       "        text-align: right;\n",
       "    }\n",
       "</style>\n",
       "<table border=\"1\" class=\"dataframe\">\n",
       "  <thead>\n",
       "    <tr style=\"text-align: right;\">\n",
       "      <th></th>\n",
       "      <th>date_block_num</th>\n",
       "      <th>target</th>\n",
       "      <th>target_normalized_lag_1</th>\n",
       "      <th>target_shop_normalized_lag_1</th>\n",
       "      <th>target_item_normalized_lag_1</th>\n",
       "      <th>revenue_normalized_lag_1</th>\n",
       "      <th>revenue_shop_normalized_lag_1</th>\n",
       "      <th>revenue_item_normalized_lag_1</th>\n",
       "      <th>target_normalized_lag_2</th>\n",
       "      <th>target_shop_normalized_lag_2</th>\n",
       "      <th>...</th>\n",
       "      <th>revenue_item_normalized_lag_5</th>\n",
       "      <th>target_normalized_lag_12</th>\n",
       "      <th>target_shop_normalized_lag_12</th>\n",
       "      <th>target_item_normalized_lag_12</th>\n",
       "      <th>revenue_normalized_lag_12</th>\n",
       "      <th>revenue_shop_normalized_lag_12</th>\n",
       "      <th>revenue_item_normalized_lag_12</th>\n",
       "      <th>shop_id_enc</th>\n",
       "      <th>item_id_enc</th>\n",
       "      <th>item_category_id_enc</th>\n",
       "    </tr>\n",
       "  </thead>\n",
       "  <tbody>\n",
       "    <tr>\n",
       "      <th>0</th>\n",
       "      <td>12</td>\n",
       "      <td>4.0</td>\n",
       "      <td>0.010989</td>\n",
       "      <td>0.616214</td>\n",
       "      <td>0.005088</td>\n",
       "      <td>0.005721</td>\n",
       "      <td>0.622419</td>\n",
       "      <td>0.001766</td>\n",
       "      <td>0.009670</td>\n",
       "      <td>0.488939</td>\n",
       "      <td>...</td>\n",
       "      <td>0.00000</td>\n",
       "      <td>0.0</td>\n",
       "      <td>0.0</td>\n",
       "      <td>0.0</td>\n",
       "      <td>0.0</td>\n",
       "      <td>0.0</td>\n",
       "      <td>0.0</td>\n",
       "      <td>0.828419</td>\n",
       "      <td>0.074755</td>\n",
       "      <td>0.162759</td>\n",
       "    </tr>\n",
       "    <tr>\n",
       "      <th>1</th>\n",
       "      <td>12</td>\n",
       "      <td>3.0</td>\n",
       "      <td>0.009670</td>\n",
       "      <td>0.616214</td>\n",
       "      <td>0.003657</td>\n",
       "      <td>0.005365</td>\n",
       "      <td>0.622419</td>\n",
       "      <td>0.001921</td>\n",
       "      <td>0.000000</td>\n",
       "      <td>0.000000</td>\n",
       "      <td>...</td>\n",
       "      <td>0.00000</td>\n",
       "      <td>0.0</td>\n",
       "      <td>0.0</td>\n",
       "      <td>0.0</td>\n",
       "      <td>0.0</td>\n",
       "      <td>0.0</td>\n",
       "      <td>0.0</td>\n",
       "      <td>0.828419</td>\n",
       "      <td>0.098630</td>\n",
       "      <td>0.169217</td>\n",
       "    </tr>\n",
       "    <tr>\n",
       "      <th>2</th>\n",
       "      <td>12</td>\n",
       "      <td>14.0</td>\n",
       "      <td>0.018901</td>\n",
       "      <td>0.616214</td>\n",
       "      <td>0.031084</td>\n",
       "      <td>0.006695</td>\n",
       "      <td>0.622419</td>\n",
       "      <td>0.004218</td>\n",
       "      <td>0.061978</td>\n",
       "      <td>0.488939</td>\n",
       "      <td>...</td>\n",
       "      <td>0.00000</td>\n",
       "      <td>0.0</td>\n",
       "      <td>0.0</td>\n",
       "      <td>0.0</td>\n",
       "      <td>0.0</td>\n",
       "      <td>0.0</td>\n",
       "      <td>0.0</td>\n",
       "      <td>0.828419</td>\n",
       "      <td>1.431898</td>\n",
       "      <td>0.241341</td>\n",
       "    </tr>\n",
       "    <tr>\n",
       "      <th>3</th>\n",
       "      <td>12</td>\n",
       "      <td>3.0</td>\n",
       "      <td>0.010110</td>\n",
       "      <td>0.616214</td>\n",
       "      <td>0.006042</td>\n",
       "      <td>0.005476</td>\n",
       "      <td>0.622419</td>\n",
       "      <td>0.001887</td>\n",
       "      <td>0.023297</td>\n",
       "      <td>0.488939</td>\n",
       "      <td>...</td>\n",
       "      <td>0.00000</td>\n",
       "      <td>0.0</td>\n",
       "      <td>0.0</td>\n",
       "      <td>0.0</td>\n",
       "      <td>0.0</td>\n",
       "      <td>0.0</td>\n",
       "      <td>0.0</td>\n",
       "      <td>0.828419</td>\n",
       "      <td>0.213953</td>\n",
       "      <td>0.162759</td>\n",
       "    </tr>\n",
       "    <tr>\n",
       "      <th>4</th>\n",
       "      <td>12</td>\n",
       "      <td>1.0</td>\n",
       "      <td>0.009670</td>\n",
       "      <td>0.616214</td>\n",
       "      <td>0.002067</td>\n",
       "      <td>0.005365</td>\n",
       "      <td>0.622419</td>\n",
       "      <td>0.001119</td>\n",
       "      <td>0.009670</td>\n",
       "      <td>0.488939</td>\n",
       "      <td>...</td>\n",
       "      <td>0.00116</td>\n",
       "      <td>0.0</td>\n",
       "      <td>0.0</td>\n",
       "      <td>0.0</td>\n",
       "      <td>0.0</td>\n",
       "      <td>0.0</td>\n",
       "      <td>0.0</td>\n",
       "      <td>0.828419</td>\n",
       "      <td>0.062338</td>\n",
       "      <td>0.092227</td>\n",
       "    </tr>\n",
       "  </tbody>\n",
       "</table>\n",
       "<p>5 rows × 41 columns</p>\n",
       "</div>"
      ],
      "text/plain": [
       "   date_block_num  target  target_normalized_lag_1  \\\n",
       "0              12     4.0                 0.010989   \n",
       "1              12     3.0                 0.009670   \n",
       "2              12    14.0                 0.018901   \n",
       "3              12     3.0                 0.010110   \n",
       "4              12     1.0                 0.009670   \n",
       "\n",
       "   target_shop_normalized_lag_1  target_item_normalized_lag_1  \\\n",
       "0                      0.616214                      0.005088   \n",
       "1                      0.616214                      0.003657   \n",
       "2                      0.616214                      0.031084   \n",
       "3                      0.616214                      0.006042   \n",
       "4                      0.616214                      0.002067   \n",
       "\n",
       "   revenue_normalized_lag_1  revenue_shop_normalized_lag_1  \\\n",
       "0                  0.005721                       0.622419   \n",
       "1                  0.005365                       0.622419   \n",
       "2                  0.006695                       0.622419   \n",
       "3                  0.005476                       0.622419   \n",
       "4                  0.005365                       0.622419   \n",
       "\n",
       "   revenue_item_normalized_lag_1  target_normalized_lag_2  \\\n",
       "0                       0.001766                 0.009670   \n",
       "1                       0.001921                 0.000000   \n",
       "2                       0.004218                 0.061978   \n",
       "3                       0.001887                 0.023297   \n",
       "4                       0.001119                 0.009670   \n",
       "\n",
       "   target_shop_normalized_lag_2  ...  revenue_item_normalized_lag_5  \\\n",
       "0                      0.488939  ...                        0.00000   \n",
       "1                      0.000000  ...                        0.00000   \n",
       "2                      0.488939  ...                        0.00000   \n",
       "3                      0.488939  ...                        0.00000   \n",
       "4                      0.488939  ...                        0.00116   \n",
       "\n",
       "   target_normalized_lag_12  target_shop_normalized_lag_12  \\\n",
       "0                       0.0                            0.0   \n",
       "1                       0.0                            0.0   \n",
       "2                       0.0                            0.0   \n",
       "3                       0.0                            0.0   \n",
       "4                       0.0                            0.0   \n",
       "\n",
       "   target_item_normalized_lag_12  revenue_normalized_lag_12  \\\n",
       "0                            0.0                        0.0   \n",
       "1                            0.0                        0.0   \n",
       "2                            0.0                        0.0   \n",
       "3                            0.0                        0.0   \n",
       "4                            0.0                        0.0   \n",
       "\n",
       "   revenue_shop_normalized_lag_12  revenue_item_normalized_lag_12  \\\n",
       "0                             0.0                             0.0   \n",
       "1                             0.0                             0.0   \n",
       "2                             0.0                             0.0   \n",
       "3                             0.0                             0.0   \n",
       "4                             0.0                             0.0   \n",
       "\n",
       "   shop_id_enc  item_id_enc  item_category_id_enc  \n",
       "0     0.828419     0.074755              0.162759  \n",
       "1     0.828419     0.098630              0.169217  \n",
       "2     0.828419     1.431898              0.241341  \n",
       "3     0.828419     0.213953              0.162759  \n",
       "4     0.828419     0.062338              0.092227  \n",
       "\n",
       "[5 rows x 41 columns]"
      ]
     },
     "execution_count": 24,
     "metadata": {},
     "output_type": "execute_result"
    }
   ],
   "source": [
    "all_data.drop(cols_to_drop, axis=1).head()"
   ]
  },
  {
   "cell_type": "markdown",
   "id": "c2470caf",
   "metadata": {},
   "source": [
    "# Fit models on the training set"
   ]
  },
  {
   "cell_type": "markdown",
   "id": "9b929de1",
   "metadata": {},
   "source": [
    "## Gradient boosted decision tree"
   ]
  },
  {
   "cell_type": "code",
   "execution_count": 25,
   "id": "b116eae4",
   "metadata": {},
   "outputs": [
    {
     "name": "stderr",
     "output_type": "stream",
     "text": [
      "2021/07/01 14:51:10 INFO mlflow.tracking.fluent: Autologging successfully enabled for sklearn.\n",
      "2021/07/01 14:51:10 INFO mlflow.tracking.fluent: Autologging successfully enabled for xgboost.\n",
      "2021/07/01 14:51:10 INFO mlflow.pyspark.ml: No SparkSession detected. Autologging will log pyspark.ml models contained in the default allowlist. To specify a custom allowlist, initialize a SparkSession prior to calling mlflow.pyspark.ml.autolog() and specify the path to your allowlist file via the spark.mlflow.pysparkml.autolog.logModelAllowlistFile conf.\n"
     ]
    }
   ],
   "source": [
    "mlflow.autolog()"
   ]
  },
  {
   "cell_type": "code",
   "execution_count": 26,
   "id": "cc847023",
   "metadata": {},
   "outputs": [],
   "source": [
    "x_cols = [col for col in all_data.columns if col != 'target' and col not in cols_to_drop]\n",
    "\n",
    "# Clip target values into the [0, 20] range, as in the test set\n",
    "label = all_data['target'].clip(lower=0, upper=20)\n",
    "\n",
    "xgtrain = xgb.DMatrix(all_data[x_cols], label=label)"
   ]
  },
  {
   "cell_type": "code",
   "execution_count": 27,
   "id": "4146d5f7",
   "metadata": {
    "scrolled": true
   },
   "outputs": [
    {
     "name": "stdout",
     "output_type": "stream",
     "text": [
      "[0]\ttrain-rmse:1.06063\n",
      "[1]\ttrain-rmse:0.98035\n",
      "[2]\ttrain-rmse:0.93424\n",
      "[3]\ttrain-rmse:0.90641\n",
      "[4]\ttrain-rmse:0.88960\n",
      "[5]\ttrain-rmse:0.87762\n",
      "[6]\ttrain-rmse:0.86981\n",
      "[7]\ttrain-rmse:0.86427\n",
      "[8]\ttrain-rmse:0.85936\n",
      "[9]\ttrain-rmse:0.85554\n"
     ]
    },
    {
     "name": "stderr",
     "output_type": "stream",
     "text": [
      "2021/07/01 14:52:35 WARNING mlflow.utils.autologging_utils: MLflow autologging encountered a warning: \"/home/adampg/competitive-data-science-predict-future-sales/venv/lib/python3.8/site-packages/mlflow/models/signature.py:129: UserWarning: Hint: Inferred schema contains integer column(s). Integer columns in Python cannot represent missing values. If your input data contains missing values at inference time, it will be encoded as floats and will cause a schema enforcement error. The best way to avoid this problem is to infer the model schema based on a realistic data sample (training dataset) that includes missing values. Alternatively, you can declare integer columns as doubles (float64) whenever these columns may have missing values. See `Handling Integers With Missing Values <https://www.mlflow.org/docs/latest/models.html#handling-integers-with-missing-values>`_ for more details.\"\n"
     ]
    }
   ],
   "source": [
    "param = {}\n",
    "num_round = 10\n",
    "evallist = [(xgtrain, 'train')]\n",
    "\n",
    "with mlflow.start_run() as run:\n",
    "    bst = xgb.train(param, xgtrain, num_round, evallist)"
   ]
  },
  {
   "cell_type": "markdown",
   "id": "a90580e7",
   "metadata": {},
   "source": [
    "# Make predictions on the test set"
   ]
  },
  {
   "cell_type": "markdown",
   "id": "bfeb6b8c",
   "metadata": {},
   "source": [
    "## Add features to the test dataframe"
   ]
  },
  {
   "cell_type": "code",
   "execution_count": 28,
   "id": "c2926931",
   "metadata": {},
   "outputs": [],
   "source": [
    "test_feats = test.copy()"
   ]
  },
  {
   "cell_type": "markdown",
   "id": "9378e901",
   "metadata": {},
   "source": [
    "The test data appears in the 34th month, which we add as the value for 'date_block_num'."
   ]
  },
  {
   "cell_type": "code",
   "execution_count": 29,
   "id": "0f53da1b",
   "metadata": {},
   "outputs": [],
   "source": [
    "test_feats['date_block_num'] = 34"
   ]
  },
  {
   "cell_type": "markdown",
   "id": "f3519381",
   "metadata": {},
   "source": [
    "Add features using lags from [1, 2, 3, 4, 5, 12] months ago."
   ]
  },
  {
   "cell_type": "code",
   "execution_count": 30,
   "id": "f6d87307",
   "metadata": {},
   "outputs": [
    {
     "data": {
      "application/vnd.jupyter.widget-view+json": {
       "model_id": "425418ae98c5479c980a0e877c00d146",
       "version_major": 2,
       "version_minor": 0
      },
      "text/plain": [
       "  0%|          | 0/6 [00:00<?, ?it/s]"
      ]
     },
     "metadata": {},
     "output_type": "display_data"
    }
   ],
   "source": [
    "shift_range = [1, 2, 3, 4, 5, 12]\n",
    "\n",
    "id_cols = ['shop_id', 'item_id']\n",
    "# All normalized target and revenue columns \n",
    "cols_to_rename = [col + '_normalized' for col in num_cols]\n",
    "\n",
    "for month_shift in tqdm_notebook(shift_range):\n",
    "    lagged_feats = all_data[all_data['date_block_num'] == 34 - month_shift][['shop_id', 'item_id'] + cols_to_rename]\n",
    "    test_feats = pd.merge(test_feats, lagged_feats, left_on=id_cols, right_on=id_cols, how='left').fillna(0)\n",
    "    \n",
    "    foo = lambda x: '{}_lag_{}'.format(x, month_shift) if x in cols_to_rename else x\n",
    "    test_feats = test_feats.rename(columns=foo)"
   ]
  },
  {
   "cell_type": "markdown",
   "id": "b5d6a87b",
   "metadata": {},
   "source": [
    "Add mean encodings of categorical features."
   ]
  },
  {
   "cell_type": "code",
   "execution_count": 31,
   "id": "6e1f78f9",
   "metadata": {},
   "outputs": [],
   "source": [
    "# Category for each item\n",
    "item_category_mapping = items[['item_id','item_category_id']].drop_duplicates()\n",
    "\n",
    "test_feats = pd.merge(test_feats, item_category_mapping, how='left', on='item_id')\n",
    "\n",
    "# Mean encodings\n",
    "global_mean = all_data['target'].mean()\n",
    "for col in cat_cols:\n",
    "    gb = all_data.groupby(by=col)['target'].mean().rename(col + '_enc')\n",
    "    test_feats = test_feats.join(gb, on=col, how='left').fillna(global_mean)"
   ]
  },
  {
   "cell_type": "markdown",
   "id": "d627e7f7",
   "metadata": {},
   "source": [
    "Downcast types to save memory."
   ]
  },
  {
   "cell_type": "code",
   "execution_count": 32,
   "id": "03340adc",
   "metadata": {},
   "outputs": [],
   "source": [
    "test_feats = downcast_dtypes(test_feats)"
   ]
  },
  {
   "cell_type": "markdown",
   "id": "22b39ddf",
   "metadata": {},
   "source": [
    "Set indices to drop when making predictions and display the resulting dataframe."
   ]
  },
  {
   "cell_type": "code",
   "execution_count": 33,
   "id": "75650360",
   "metadata": {},
   "outputs": [
    {
     "data": {
      "text/html": [
       "<div>\n",
       "<style scoped>\n",
       "    .dataframe tbody tr th:only-of-type {\n",
       "        vertical-align: middle;\n",
       "    }\n",
       "\n",
       "    .dataframe tbody tr th {\n",
       "        vertical-align: top;\n",
       "    }\n",
       "\n",
       "    .dataframe thead th {\n",
       "        text-align: right;\n",
       "    }\n",
       "</style>\n",
       "<table border=\"1\" class=\"dataframe\">\n",
       "  <thead>\n",
       "    <tr style=\"text-align: right;\">\n",
       "      <th></th>\n",
       "      <th>ID</th>\n",
       "      <th>shop_id</th>\n",
       "      <th>item_id</th>\n",
       "      <th>date_block_num</th>\n",
       "      <th>target_normalized_lag_1</th>\n",
       "      <th>target_shop_normalized_lag_1</th>\n",
       "      <th>target_item_normalized_lag_1</th>\n",
       "      <th>revenue_normalized_lag_1</th>\n",
       "      <th>revenue_shop_normalized_lag_1</th>\n",
       "      <th>revenue_item_normalized_lag_1</th>\n",
       "      <th>...</th>\n",
       "      <th>target_normalized_lag_12</th>\n",
       "      <th>target_shop_normalized_lag_12</th>\n",
       "      <th>target_item_normalized_lag_12</th>\n",
       "      <th>revenue_normalized_lag_12</th>\n",
       "      <th>revenue_shop_normalized_lag_12</th>\n",
       "      <th>revenue_item_normalized_lag_12</th>\n",
       "      <th>item_category_id</th>\n",
       "      <th>shop_id_enc</th>\n",
       "      <th>item_id_enc</th>\n",
       "      <th>item_category_id_enc</th>\n",
       "    </tr>\n",
       "  </thead>\n",
       "  <tbody>\n",
       "    <tr>\n",
       "      <th>0</th>\n",
       "      <td>0</td>\n",
       "      <td>5</td>\n",
       "      <td>5037</td>\n",
       "      <td>34</td>\n",
       "      <td>0.00967</td>\n",
       "      <td>0.064526</td>\n",
       "      <td>0.003736</td>\n",
       "      <td>0.005365</td>\n",
       "      <td>0.070515</td>\n",
       "      <td>0.001902</td>\n",
       "      <td>...</td>\n",
       "      <td>0.01011</td>\n",
       "      <td>0.088608</td>\n",
       "      <td>0.006916</td>\n",
       "      <td>0.005777</td>\n",
       "      <td>0.111879</td>\n",
       "      <td>0.004687</td>\n",
       "      <td>19</td>\n",
       "      <td>0.207204</td>\n",
       "      <td>1.950845</td>\n",
       "      <td>0.600482</td>\n",
       "    </tr>\n",
       "    <tr>\n",
       "      <th>1</th>\n",
       "      <td>1</td>\n",
       "      <td>5</td>\n",
       "      <td>5320</td>\n",
       "      <td>34</td>\n",
       "      <td>0.00000</td>\n",
       "      <td>0.000000</td>\n",
       "      <td>0.000000</td>\n",
       "      <td>0.000000</td>\n",
       "      <td>0.000000</td>\n",
       "      <td>0.000000</td>\n",
       "      <td>...</td>\n",
       "      <td>0.00000</td>\n",
       "      <td>0.000000</td>\n",
       "      <td>0.000000</td>\n",
       "      <td>0.000000</td>\n",
       "      <td>0.000000</td>\n",
       "      <td>0.000000</td>\n",
       "      <td>55</td>\n",
       "      <td>0.207204</td>\n",
       "      <td>0.324582</td>\n",
       "      <td>0.224931</td>\n",
       "    </tr>\n",
       "    <tr>\n",
       "      <th>2</th>\n",
       "      <td>2</td>\n",
       "      <td>5</td>\n",
       "      <td>5233</td>\n",
       "      <td>34</td>\n",
       "      <td>0.01011</td>\n",
       "      <td>0.064526</td>\n",
       "      <td>0.005088</td>\n",
       "      <td>0.005555</td>\n",
       "      <td>0.070515</td>\n",
       "      <td>0.002179</td>\n",
       "      <td>...</td>\n",
       "      <td>0.00000</td>\n",
       "      <td>0.000000</td>\n",
       "      <td>0.000000</td>\n",
       "      <td>0.000000</td>\n",
       "      <td>0.000000</td>\n",
       "      <td>0.000000</td>\n",
       "      <td>19</td>\n",
       "      <td>0.207204</td>\n",
       "      <td>1.656863</td>\n",
       "      <td>0.600482</td>\n",
       "    </tr>\n",
       "    <tr>\n",
       "      <th>3</th>\n",
       "      <td>3</td>\n",
       "      <td>5</td>\n",
       "      <td>5232</td>\n",
       "      <td>34</td>\n",
       "      <td>0.00967</td>\n",
       "      <td>0.064526</td>\n",
       "      <td>0.003975</td>\n",
       "      <td>0.005365</td>\n",
       "      <td>0.070515</td>\n",
       "      <td>0.001812</td>\n",
       "      <td>...</td>\n",
       "      <td>0.00000</td>\n",
       "      <td>0.000000</td>\n",
       "      <td>0.000000</td>\n",
       "      <td>0.000000</td>\n",
       "      <td>0.000000</td>\n",
       "      <td>0.000000</td>\n",
       "      <td>23</td>\n",
       "      <td>0.207204</td>\n",
       "      <td>1.093023</td>\n",
       "      <td>0.610830</td>\n",
       "    </tr>\n",
       "    <tr>\n",
       "      <th>4</th>\n",
       "      <td>4</td>\n",
       "      <td>5</td>\n",
       "      <td>5268</td>\n",
       "      <td>34</td>\n",
       "      <td>0.00000</td>\n",
       "      <td>0.000000</td>\n",
       "      <td>0.000000</td>\n",
       "      <td>0.000000</td>\n",
       "      <td>0.000000</td>\n",
       "      <td>0.000000</td>\n",
       "      <td>...</td>\n",
       "      <td>0.00000</td>\n",
       "      <td>0.000000</td>\n",
       "      <td>0.000000</td>\n",
       "      <td>0.000000</td>\n",
       "      <td>0.000000</td>\n",
       "      <td>0.000000</td>\n",
       "      <td>20</td>\n",
       "      <td>0.207204</td>\n",
       "      <td>0.324582</td>\n",
       "      <td>1.837239</td>\n",
       "    </tr>\n",
       "  </tbody>\n",
       "</table>\n",
       "<p>5 rows × 44 columns</p>\n",
       "</div>"
      ],
      "text/plain": [
       "   ID  shop_id  item_id  date_block_num  target_normalized_lag_1  \\\n",
       "0   0        5     5037              34                  0.00967   \n",
       "1   1        5     5320              34                  0.00000   \n",
       "2   2        5     5233              34                  0.01011   \n",
       "3   3        5     5232              34                  0.00967   \n",
       "4   4        5     5268              34                  0.00000   \n",
       "\n",
       "   target_shop_normalized_lag_1  target_item_normalized_lag_1  \\\n",
       "0                      0.064526                      0.003736   \n",
       "1                      0.000000                      0.000000   \n",
       "2                      0.064526                      0.005088   \n",
       "3                      0.064526                      0.003975   \n",
       "4                      0.000000                      0.000000   \n",
       "\n",
       "   revenue_normalized_lag_1  revenue_shop_normalized_lag_1  \\\n",
       "0                  0.005365                       0.070515   \n",
       "1                  0.000000                       0.000000   \n",
       "2                  0.005555                       0.070515   \n",
       "3                  0.005365                       0.070515   \n",
       "4                  0.000000                       0.000000   \n",
       "\n",
       "   revenue_item_normalized_lag_1  ...  target_normalized_lag_12  \\\n",
       "0                       0.001902  ...                   0.01011   \n",
       "1                       0.000000  ...                   0.00000   \n",
       "2                       0.002179  ...                   0.00000   \n",
       "3                       0.001812  ...                   0.00000   \n",
       "4                       0.000000  ...                   0.00000   \n",
       "\n",
       "   target_shop_normalized_lag_12  target_item_normalized_lag_12  \\\n",
       "0                       0.088608                       0.006916   \n",
       "1                       0.000000                       0.000000   \n",
       "2                       0.000000                       0.000000   \n",
       "3                       0.000000                       0.000000   \n",
       "4                       0.000000                       0.000000   \n",
       "\n",
       "   revenue_normalized_lag_12  revenue_shop_normalized_lag_12  \\\n",
       "0                   0.005777                        0.111879   \n",
       "1                   0.000000                        0.000000   \n",
       "2                   0.000000                        0.000000   \n",
       "3                   0.000000                        0.000000   \n",
       "4                   0.000000                        0.000000   \n",
       "\n",
       "   revenue_item_normalized_lag_12  item_category_id  shop_id_enc  item_id_enc  \\\n",
       "0                        0.004687                19     0.207204     1.950845   \n",
       "1                        0.000000                55     0.207204     0.324582   \n",
       "2                        0.000000                19     0.207204     1.656863   \n",
       "3                        0.000000                23     0.207204     1.093023   \n",
       "4                        0.000000                20     0.207204     0.324582   \n",
       "\n",
       "   item_category_id_enc  \n",
       "0              0.600482  \n",
       "1              0.224931  \n",
       "2              0.600482  \n",
       "3              0.610830  \n",
       "4              1.837239  \n",
       "\n",
       "[5 rows x 44 columns]"
      ]
     },
     "execution_count": 33,
     "metadata": {},
     "output_type": "execute_result"
    }
   ],
   "source": [
    "test_feats.head()"
   ]
  },
  {
   "cell_type": "code",
   "execution_count": 34,
   "id": "cdac9283",
   "metadata": {},
   "outputs": [
    {
     "data": {
      "text/html": [
       "<div>\n",
       "<style scoped>\n",
       "    .dataframe tbody tr th:only-of-type {\n",
       "        vertical-align: middle;\n",
       "    }\n",
       "\n",
       "    .dataframe tbody tr th {\n",
       "        vertical-align: top;\n",
       "    }\n",
       "\n",
       "    .dataframe thead th {\n",
       "        text-align: right;\n",
       "    }\n",
       "</style>\n",
       "<table border=\"1\" class=\"dataframe\">\n",
       "  <thead>\n",
       "    <tr style=\"text-align: right;\">\n",
       "      <th></th>\n",
       "      <th>date_block_num</th>\n",
       "      <th>target_normalized_lag_1</th>\n",
       "      <th>target_shop_normalized_lag_1</th>\n",
       "      <th>target_item_normalized_lag_1</th>\n",
       "      <th>revenue_normalized_lag_1</th>\n",
       "      <th>revenue_shop_normalized_lag_1</th>\n",
       "      <th>revenue_item_normalized_lag_1</th>\n",
       "      <th>target_normalized_lag_2</th>\n",
       "      <th>target_shop_normalized_lag_2</th>\n",
       "      <th>target_item_normalized_lag_2</th>\n",
       "      <th>...</th>\n",
       "      <th>revenue_item_normalized_lag_5</th>\n",
       "      <th>target_normalized_lag_12</th>\n",
       "      <th>target_shop_normalized_lag_12</th>\n",
       "      <th>target_item_normalized_lag_12</th>\n",
       "      <th>revenue_normalized_lag_12</th>\n",
       "      <th>revenue_shop_normalized_lag_12</th>\n",
       "      <th>revenue_item_normalized_lag_12</th>\n",
       "      <th>shop_id_enc</th>\n",
       "      <th>item_id_enc</th>\n",
       "      <th>item_category_id_enc</th>\n",
       "    </tr>\n",
       "  </thead>\n",
       "  <tbody>\n",
       "    <tr>\n",
       "      <th>0</th>\n",
       "      <td>34</td>\n",
       "      <td>0.00967</td>\n",
       "      <td>0.064526</td>\n",
       "      <td>0.003736</td>\n",
       "      <td>0.005365</td>\n",
       "      <td>0.070515</td>\n",
       "      <td>0.001902</td>\n",
       "      <td>0.010110</td>\n",
       "      <td>0.066977</td>\n",
       "      <td>0.010494</td>\n",
       "      <td>...</td>\n",
       "      <td>0.004119</td>\n",
       "      <td>0.01011</td>\n",
       "      <td>0.088608</td>\n",
       "      <td>0.006916</td>\n",
       "      <td>0.005777</td>\n",
       "      <td>0.111879</td>\n",
       "      <td>0.004687</td>\n",
       "      <td>0.207204</td>\n",
       "      <td>1.950845</td>\n",
       "      <td>0.600482</td>\n",
       "    </tr>\n",
       "    <tr>\n",
       "      <th>1</th>\n",
       "      <td>34</td>\n",
       "      <td>0.00000</td>\n",
       "      <td>0.000000</td>\n",
       "      <td>0.000000</td>\n",
       "      <td>0.000000</td>\n",
       "      <td>0.000000</td>\n",
       "      <td>0.000000</td>\n",
       "      <td>0.000000</td>\n",
       "      <td>0.000000</td>\n",
       "      <td>0.000000</td>\n",
       "      <td>...</td>\n",
       "      <td>0.000000</td>\n",
       "      <td>0.00000</td>\n",
       "      <td>0.000000</td>\n",
       "      <td>0.000000</td>\n",
       "      <td>0.000000</td>\n",
       "      <td>0.000000</td>\n",
       "      <td>0.000000</td>\n",
       "      <td>0.207204</td>\n",
       "      <td>0.324582</td>\n",
       "      <td>0.224931</td>\n",
       "    </tr>\n",
       "    <tr>\n",
       "      <th>2</th>\n",
       "      <td>34</td>\n",
       "      <td>0.01011</td>\n",
       "      <td>0.064526</td>\n",
       "      <td>0.005088</td>\n",
       "      <td>0.005555</td>\n",
       "      <td>0.070515</td>\n",
       "      <td>0.002179</td>\n",
       "      <td>0.010989</td>\n",
       "      <td>0.066977</td>\n",
       "      <td>0.008109</td>\n",
       "      <td>...</td>\n",
       "      <td>0.002749</td>\n",
       "      <td>0.00000</td>\n",
       "      <td>0.000000</td>\n",
       "      <td>0.000000</td>\n",
       "      <td>0.000000</td>\n",
       "      <td>0.000000</td>\n",
       "      <td>0.000000</td>\n",
       "      <td>0.207204</td>\n",
       "      <td>1.656863</td>\n",
       "      <td>0.600482</td>\n",
       "    </tr>\n",
       "    <tr>\n",
       "      <th>3</th>\n",
       "      <td>34</td>\n",
       "      <td>0.00967</td>\n",
       "      <td>0.064526</td>\n",
       "      <td>0.003975</td>\n",
       "      <td>0.005365</td>\n",
       "      <td>0.070515</td>\n",
       "      <td>0.001812</td>\n",
       "      <td>0.009670</td>\n",
       "      <td>0.066977</td>\n",
       "      <td>0.005565</td>\n",
       "      <td>...</td>\n",
       "      <td>0.000000</td>\n",
       "      <td>0.00000</td>\n",
       "      <td>0.000000</td>\n",
       "      <td>0.000000</td>\n",
       "      <td>0.000000</td>\n",
       "      <td>0.000000</td>\n",
       "      <td>0.000000</td>\n",
       "      <td>0.207204</td>\n",
       "      <td>1.093023</td>\n",
       "      <td>0.610830</td>\n",
       "    </tr>\n",
       "    <tr>\n",
       "      <th>4</th>\n",
       "      <td>34</td>\n",
       "      <td>0.00000</td>\n",
       "      <td>0.000000</td>\n",
       "      <td>0.000000</td>\n",
       "      <td>0.000000</td>\n",
       "      <td>0.000000</td>\n",
       "      <td>0.000000</td>\n",
       "      <td>0.000000</td>\n",
       "      <td>0.000000</td>\n",
       "      <td>0.000000</td>\n",
       "      <td>...</td>\n",
       "      <td>0.000000</td>\n",
       "      <td>0.00000</td>\n",
       "      <td>0.000000</td>\n",
       "      <td>0.000000</td>\n",
       "      <td>0.000000</td>\n",
       "      <td>0.000000</td>\n",
       "      <td>0.000000</td>\n",
       "      <td>0.207204</td>\n",
       "      <td>0.324582</td>\n",
       "      <td>1.837239</td>\n",
       "    </tr>\n",
       "  </tbody>\n",
       "</table>\n",
       "<p>5 rows × 40 columns</p>\n",
       "</div>"
      ],
      "text/plain": [
       "   date_block_num  target_normalized_lag_1  target_shop_normalized_lag_1  \\\n",
       "0              34                  0.00967                      0.064526   \n",
       "1              34                  0.00000                      0.000000   \n",
       "2              34                  0.01011                      0.064526   \n",
       "3              34                  0.00967                      0.064526   \n",
       "4              34                  0.00000                      0.000000   \n",
       "\n",
       "   target_item_normalized_lag_1  revenue_normalized_lag_1  \\\n",
       "0                      0.003736                  0.005365   \n",
       "1                      0.000000                  0.000000   \n",
       "2                      0.005088                  0.005555   \n",
       "3                      0.003975                  0.005365   \n",
       "4                      0.000000                  0.000000   \n",
       "\n",
       "   revenue_shop_normalized_lag_1  revenue_item_normalized_lag_1  \\\n",
       "0                       0.070515                       0.001902   \n",
       "1                       0.000000                       0.000000   \n",
       "2                       0.070515                       0.002179   \n",
       "3                       0.070515                       0.001812   \n",
       "4                       0.000000                       0.000000   \n",
       "\n",
       "   target_normalized_lag_2  target_shop_normalized_lag_2  \\\n",
       "0                 0.010110                      0.066977   \n",
       "1                 0.000000                      0.000000   \n",
       "2                 0.010989                      0.066977   \n",
       "3                 0.009670                      0.066977   \n",
       "4                 0.000000                      0.000000   \n",
       "\n",
       "   target_item_normalized_lag_2  ...  revenue_item_normalized_lag_5  \\\n",
       "0                      0.010494  ...                       0.004119   \n",
       "1                      0.000000  ...                       0.000000   \n",
       "2                      0.008109  ...                       0.002749   \n",
       "3                      0.005565  ...                       0.000000   \n",
       "4                      0.000000  ...                       0.000000   \n",
       "\n",
       "   target_normalized_lag_12  target_shop_normalized_lag_12  \\\n",
       "0                   0.01011                       0.088608   \n",
       "1                   0.00000                       0.000000   \n",
       "2                   0.00000                       0.000000   \n",
       "3                   0.00000                       0.000000   \n",
       "4                   0.00000                       0.000000   \n",
       "\n",
       "   target_item_normalized_lag_12  revenue_normalized_lag_12  \\\n",
       "0                       0.006916                   0.005777   \n",
       "1                       0.000000                   0.000000   \n",
       "2                       0.000000                   0.000000   \n",
       "3                       0.000000                   0.000000   \n",
       "4                       0.000000                   0.000000   \n",
       "\n",
       "   revenue_shop_normalized_lag_12  revenue_item_normalized_lag_12  \\\n",
       "0                        0.111879                        0.004687   \n",
       "1                        0.000000                        0.000000   \n",
       "2                        0.000000                        0.000000   \n",
       "3                        0.000000                        0.000000   \n",
       "4                        0.000000                        0.000000   \n",
       "\n",
       "   shop_id_enc  item_id_enc  item_category_id_enc  \n",
       "0     0.207204     1.950845              0.600482  \n",
       "1     0.207204     0.324582              0.224931  \n",
       "2     0.207204     1.656863              0.600482  \n",
       "3     0.207204     1.093023              0.610830  \n",
       "4     0.207204     0.324582              1.837239  \n",
       "\n",
       "[5 rows x 40 columns]"
      ]
     },
     "execution_count": 34,
     "metadata": {},
     "output_type": "execute_result"
    }
   ],
   "source": [
    "cols_to_drop = ['ID'] + cat_cols\n",
    "test_feats.drop(cols_to_drop, axis=1).head()"
   ]
  },
  {
   "cell_type": "markdown",
   "id": "d6af758e",
   "metadata": {},
   "source": [
    "## Gradient boosted decision tree"
   ]
  },
  {
   "cell_type": "markdown",
   "id": "7411110a",
   "metadata": {},
   "source": [
    "Make predictions."
   ]
  },
  {
   "cell_type": "code",
   "execution_count": 35,
   "id": "d91c1dae",
   "metadata": {},
   "outputs": [
    {
     "data": {
      "text/plain": [
       "array([0.5442384 , 0.25536716, 0.78171617, ..., 0.06386901, 0.03684777,\n",
       "       0.07575982], dtype=float32)"
      ]
     },
     "execution_count": 35,
     "metadata": {},
     "output_type": "execute_result"
    }
   ],
   "source": [
    "xgtest = xgb.DMatrix(test_feats.drop(cols_to_drop, axis=1))\n",
    "xgpred = bst.predict(xgtest)\n",
    "# Clip predictions to [0, 20]\n",
    "np.clip(xgpred, 0, 20)"
   ]
  },
  {
   "cell_type": "markdown",
   "id": "bcd8bd55",
   "metadata": {},
   "source": [
    "## Write predictions to csv"
   ]
  },
  {
   "cell_type": "code",
   "execution_count": 36,
   "id": "5af6e34e",
   "metadata": {},
   "outputs": [],
   "source": [
    "submission = pd.Series(data=xgpred, name='item_cnt_month')\n",
    "submission.to_csv(os.path.join(DATA_FOLDER, 'submission.csv'), index_label='ID')"
   ]
  },
  {
   "cell_type": "code",
   "execution_count": null,
   "id": "e38d5f73",
   "metadata": {},
   "outputs": [],
   "source": []
  }
 ],
 "metadata": {
  "kernelspec": {
   "display_name": "Python 3",
   "language": "python",
   "name": "python3"
  },
  "language_info": {
   "codemirror_mode": {
    "name": "ipython",
    "version": 3
   },
   "file_extension": ".py",
   "mimetype": "text/x-python",
   "name": "python",
   "nbconvert_exporter": "python",
   "pygments_lexer": "ipython3",
   "version": "3.8.5"
  },
  "toc": {
   "base_numbering": 1,
   "nav_menu": {},
   "number_sections": true,
   "sideBar": true,
   "skip_h1_title": false,
   "title_cell": "Table of Contents",
   "title_sidebar": "Contents",
   "toc_cell": false,
   "toc_position": {},
   "toc_section_display": true,
   "toc_window_display": false
  },
  "varInspector": {
   "cols": {
    "lenName": 16,
    "lenType": 16,
    "lenVar": 40
   },
   "kernels_config": {
    "python": {
     "delete_cmd_postfix": "",
     "delete_cmd_prefix": "del ",
     "library": "var_list.py",
     "varRefreshCmd": "print(var_dic_list())"
    },
    "r": {
     "delete_cmd_postfix": ") ",
     "delete_cmd_prefix": "rm(",
     "library": "var_list.r",
     "varRefreshCmd": "cat(var_dic_list()) "
    }
   },
   "types_to_exclude": [
    "module",
    "function",
    "builtin_function_or_method",
    "instance",
    "_Feature"
   ],
   "window_display": false
  }
 },
 "nbformat": 4,
 "nbformat_minor": 5
}
